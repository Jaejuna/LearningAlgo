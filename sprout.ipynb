{
 "cells": [
  {
   "cell_type": "code",
   "execution_count": 3,
   "metadata": {},
   "outputs": [
    {
     "name": "stdout",
     "output_type": "stream",
     "text": [
      "11\n"
     ]
    }
   ],
   "source": [
    "# 11382\n",
    "lst = list(map(int, input().split()))\n",
    "print(sum(lst))"
   ]
  },
  {
   "cell_type": "code",
   "execution_count": 5,
   "metadata": {},
   "outputs": [
    {
     "name": "stdout",
     "output_type": "stream",
     "text": [
      "26\n"
     ]
    }
   ],
   "source": [
    "# 2420\n",
    "a, b = map(int, input().split())\n",
    "\n",
    "if a > b:\n",
    "  result = a - b\n",
    "else:\n",
    "  result = b - a\n",
    "  \n",
    "print(result)"
   ]
  },
  {
   "cell_type": "code",
   "execution_count": 8,
   "metadata": {},
   "outputs": [
    {
     "name": "stdout",
     "output_type": "stream",
     "text": [
      "3628800\n"
     ]
    }
   ],
   "source": [
    "# 10872\n",
    "a = int(input())\n",
    "result = 1\n",
    "\n",
    "for i in range(a):\n",
    "  result *= a\n",
    "  a -= 1\n",
    "  \n",
    "print(result)"
   ]
  },
  {
   "cell_type": "code",
   "execution_count": 9,
   "metadata": {},
   "outputs": [
    {
     "name": "stdout",
     "output_type": "stream",
     "text": [
      "3\n"
     ]
    }
   ],
   "source": [
    "# 10807\n",
    "a = int(input())\n",
    "b = list(map(int, input().split()))\n",
    "c = int(input())\n",
    "cnt = 0\n",
    "\n",
    "for i in range(a):\n",
    "  if b[i] == c:\n",
    "    cnt += 1\n",
    "\n",
    "print(cnt)"
   ]
  },
  {
   "cell_type": "code",
   "execution_count": 13,
   "metadata": {},
   "outputs": [
    {
     "ename": "IndexError",
     "evalue": "list index out of range",
     "output_type": "error",
     "traceback": [
      "\u001b[0;31m---------------------------------------------------------------------------\u001b[0m",
      "\u001b[0;31mIndexError\u001b[0m                                Traceback (most recent call last)",
      "Cell \u001b[0;32mIn[13], line 11\u001b[0m\n\u001b[1;32m      9\u001b[0m   b \u001b[38;5;241m=\u001b[39m \u001b[38;5;28mlist\u001b[39m(\u001b[38;5;28mmap\u001b[39m(\u001b[38;5;28mint\u001b[39m, \u001b[38;5;28minput\u001b[39m()))\n\u001b[1;32m     10\u001b[0m   \u001b[38;5;28;01mfor\u001b[39;00m k \u001b[38;5;129;01min\u001b[39;00m \u001b[38;5;28mrange\u001b[39m(\u001b[38;5;241m28\u001b[39m):\n\u001b[0;32m---> 11\u001b[0m     \u001b[38;5;28;01mif\u001b[39;00m \u001b[43mb\u001b[49m\u001b[43m[\u001b[49m\u001b[43mj\u001b[49m\u001b[43m]\u001b[49m \u001b[38;5;129;01mnot\u001b[39;00m \u001b[38;5;129;01min\u001b[39;00m a[k]:\n\u001b[1;32m     12\u001b[0m       e\u001b[38;5;241m.\u001b[39mappend(b[j])\n\u001b[1;32m     14\u001b[0m \u001b[38;5;28;01mif\u001b[39;00m b[\u001b[38;5;241m0\u001b[39m] \u001b[38;5;241m>\u001b[39m b[\u001b[38;5;241m1\u001b[39m]:\n",
      "\u001b[0;31mIndexError\u001b[0m: list index out of range"
     ]
    }
   ],
   "source": [
    "# 5597\n",
    "a = []\n",
    "e = []\n",
    "\n",
    "for i in range(30):\n",
    "  a.append(i+1)\n",
    "  \n",
    "for j in range(30):\n",
    "  b = list(map(int, input()))\n",
    "  for k in range(28):\n",
    "    if b[j] not in a[k]:\n",
    "      e.append(b[j])\n",
    "\n",
    "if b[0] > b[1]:\n",
    "  print(b[1])\n",
    "  print(b[0])\n",
    "else:\n",
    "  print(b[0])\n",
    "  print(b[1])\n"
   ]
  }
 ],
 "metadata": {
  "kernelspec": {
   "display_name": "base",
   "language": "python",
   "name": "python3"
  },
  "language_info": {
   "codemirror_mode": {
    "name": "ipython",
    "version": 3
   },
   "file_extension": ".py",
   "mimetype": "text/x-python",
   "name": "python",
   "nbconvert_exporter": "python",
   "pygments_lexer": "ipython3",
   "version": "3.10.9"
  }
 },
 "nbformat": 4,
 "nbformat_minor": 2
}
