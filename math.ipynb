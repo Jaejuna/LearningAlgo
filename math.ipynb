{
  "nbformat": 4,
  "nbformat_minor": 0,
  "metadata": {
    "colab": {
      "provenance": [],
      "authorship_tag": "ABX9TyOB+aUOkM5J/ied8GBeUq0I",
      "include_colab_link": true
    },
    "kernelspec": {
      "name": "python3",
      "display_name": "Python 3"
    },
    "language_info": {
      "name": "python"
    }
  },
  "cells": [
    {
      "cell_type": "markdown",
      "metadata": {
        "id": "view-in-github",
        "colab_type": "text"
      },
      "source": [
        "<a href=\"https://colab.research.google.com/github/Jaejuna/LearningAlgo/blob/main/math.ipynb\" target=\"_parent\"><img src=\"https://colab.research.google.com/assets/colab-badge.svg\" alt=\"Open In Colab\"/></a>"
      ]
    },
    {
      "cell_type": "code",
      "execution_count": 1,
      "metadata": {
        "colab": {
          "base_uri": "https://localhost:8080/"
        },
        "id": "hCHwsloC7S6T",
        "outputId": "a7c9b127-7be4-4e77-f3d7-4a162d2a11a7"
      },
      "outputs": [
        {
          "output_type": "stream",
          "name": "stdout",
          "text": [
            "6 2 10 3\n",
            "1\n"
          ]
        }
      ],
      "source": [
        "# 1085 직사각형에서 탈출\n",
        "n = list(map(int, input().split()))\n",
        "\n",
        "print(min(n[2]-n[0], n[3]-n[1], n[0], n[1]))"
      ]
    }
  ]
}