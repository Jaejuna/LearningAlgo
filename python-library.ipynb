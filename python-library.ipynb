{
 "cells": [
  {
   "cell_type": "markdown",
   "metadata": {},
   "source": [
    "# 주요 라이브러의 문법과 유의점"
   ]
  },
  {
   "cell_type": "markdown",
   "metadata": {},
   "source": [
    "## 숫자 함수"
   ]
  },
  {
   "cell_type": "code",
   "execution_count": null,
   "metadata": {},
   "outputs": [],
   "source": [
    "print(sum([1,2,3,4,5]))\n",
    "print(min([1,2,3,4,5]))\n",
    "print(max([1,2,3,4,5]))\n",
    "print(abs(-5)) # 5\n",
    "print(pow(4, 2)) # 4^2\n",
    "\n",
    "# math\n",
    "import math\n",
    "\n",
    "print(math.factorial(5))\n",
    "\n",
    "print(math.sqrt(7))\n",
    "\n",
    "print(math.gcd(21, 14))\n",
    "\n",
    "print(math.pi)\n",
    "print(math.e)\n",
    "\n",
    "print(math.floor(4.99))\n",
    "print(math.ceil(3.12))"
   ]
  },
  {
   "cell_type": "markdown",
   "metadata": {},
   "source": [
    "## 문자 다루기"
   ]
  },
  {
   "cell_type": "code",
   "execution_count": null,
   "metadata": {},
   "outputs": [],
   "source": [
    "# 문자열 수식 계산\n",
    "result = eval(\"(3 + 5) * 7\")\n",
    "\n",
    "python = 'Python'\n",
    "\n",
    "print(python.lower())\n",
    "print(python.upper())\n",
    "print(python[0].isupper())\n",
    "print(len(python))\n",
    "print(python.replace(\"Python\", \"C\"))\n",
    "\n",
    "index = python.index('n')\n",
    "print(index)\n",
    "index = python.index('n', index + 1)\n",
    "print(index)\n",
    "\n",
    "print(python.find('n'))"
   ]
  },
  {
   "cell_type": "markdown",
   "metadata": {},
   "source": [
    "## 정렬"
   ]
  },
  {
   "cell_type": "code",
   "execution_count": null,
   "metadata": {},
   "outputs": [],
   "source": [
    "result = sorted([1,2,3,4,5])\n",
    "print(result)\n",
    "result = sorted([1,2,3,4,5], reverse = True)\n",
    "print(result)\n",
    "\n",
    "result = sorted([('홍길동', 35), ('이순신', 70), ('아무개', 50)], key = lambda x : x[1], reverse = True)\n",
    "print(result)"
   ]
  },
  {
   "cell_type": "markdown",
   "metadata": {},
   "source": [
    "## 순열과 조합"
   ]
  },
  {
   "cell_type": "code",
   "execution_count": null,
   "metadata": {},
   "outputs": [],
   "source": [
    "# itertools\n",
    "from itertools import permutations \n",
    "\n",
    "data = ['A', 'B', 'C']\n",
    "\n",
    "result = list(permutations(data, 3))\n",
    "print(result)"
   ]
  },
  {
   "cell_type": "code",
   "execution_count": null,
   "metadata": {},
   "outputs": [],
   "source": [
    "from itertools import combinations\n",
    "\n",
    "data = ['A', 'B', 'C']\n",
    "\n",
    "result = list(combinations(data, 2))\n",
    "print(result)"
   ]
  },
  {
   "cell_type": "markdown",
   "metadata": {},
   "source": [
    "## 기타 연산"
   ]
  },
  {
   "cell_type": "code",
   "execution_count": null,
   "metadata": {},
   "outputs": [],
   "source": [
    "from itertools import product\n",
    "\n",
    "data = ['A', 'B', 'C']\n",
    "\n",
    "result = list(product(data, repeat=2))\n",
    "print(result)"
   ]
  },
  {
   "cell_type": "code",
   "execution_count": null,
   "metadata": {},
   "outputs": [],
   "source": [
    "from itertools import combinations_with_replacement\n",
    "\n",
    "data = ['A', 'B', 'C']\n",
    "\n",
    "result = list(combinations_with_replacement(data, 2))\n",
    "print(result)"
   ]
  },
  {
   "cell_type": "code",
   "execution_count": null,
   "metadata": {},
   "outputs": [],
   "source": [
    "# heapq\n",
    "import heapq\n",
    "\n",
    "def heapsort(iterable):\n",
    "  h = []\n",
    "  result = []\n",
    "\n",
    "  for value in iterable:\n",
    "    heapq.heappush(h, value)\n",
    "  for _ in range(len(h)):\n",
    "    result.append(heapq.heappop(h))\n",
    "  return result\n",
    "\n",
    "result = heapsort([1,3,5,7,9,2,4,6,8,0])\n",
    "print(result)"
   ]
  },
  {
   "cell_type": "code",
   "execution_count": null,
   "metadata": {},
   "outputs": [],
   "source": [
    "def heapsort(iterable):\n",
    "  h = []\n",
    "  result = []\n",
    "\n",
    "  for value in iterable:\n",
    "    heapq.heappush(h, -value)\n",
    "  for _ in range(len(h)):\n",
    "    result.append(-heapq.heappop(h))\n",
    "  return result\n",
    "\n",
    "result = heapsort([1,3,5,7,9,2,4,6,8,0])\n",
    "print(result)"
   ]
  },
  {
   "cell_type": "code",
   "execution_count": null,
   "metadata": {},
   "outputs": [],
   "source": [
    "# bisect\n",
    "from bisect import bisect_left, bisect_right\n",
    "\n",
    "a = [1,2,4,4,8]\n",
    "x = 4\n",
    "\n",
    "print(bisect_left(a,x))\n",
    "print(bisect_right(a,x))"
   ]
  },
  {
   "cell_type": "code",
   "execution_count": null,
   "metadata": {},
   "outputs": [],
   "source": [
    "def count_by_range(a, left_value, right_value):\n",
    "  right_index = bisect_right(a, right_value)\n",
    "  left_index = bisect_left(a, left_value)\n",
    "  return right_value - left_value\n",
    "\n",
    "a = [1,2,3,3,3,3,4,4,8,9]\n",
    "\n",
    "print(count_by_range(a,4,4))\n",
    "\n",
    "print(count_by_range(a, -1, 3))"
   ]
  },
  {
   "cell_type": "code",
   "execution_count": null,
   "metadata": {},
   "outputs": [],
   "source": [
    "# collections \n",
    "from collections import deque\n",
    "\n",
    "data = deque([2,3,4])\n",
    "data.appendleft(1)\n",
    "data.append(5)\n",
    "\n",
    "print(data)\n",
    "print(list(data))"
   ]
  },
  {
   "cell_type": "code",
   "execution_count": null,
   "metadata": {},
   "outputs": [],
   "source": [
    "from collections import Counter\n",
    "\n",
    "counter = Counter(['red', 'blue', 'red', 'green', 'blue', 'blue'])\n",
    "\n",
    "print(counter['blue'])\n",
    "print(counter['green'])\n",
    "print(dict(counter))"
   ]
  },
  {
   "cell_type": "markdown",
   "metadata": {},
   "source": [
    "## random 함수"
   ]
  },
  {
   "cell_type": "code",
   "execution_count": null,
   "metadata": {},
   "outputs": [],
   "source": [
    "from random import *\n",
    "\n",
    "print(random()) # 0~1 랜덤 수\n",
    "print(random() * 10) # 0~10 랜덤 수\n",
    "print(int(random())) # 0~1 랜덤 정수"
   ]
  }
 ],
 "metadata": {
  "language_info": {
   "name": "python"
  }
 },
 "nbformat": 4,
 "nbformat_minor": 2
}
