{
  "nbformat": 4,
  "nbformat_minor": 0,
  "metadata": {
    "colab": {
      "name": "p.96 숫자 카드 게임",
      "provenance": [],
      "authorship_tag": "ABX9TyOYo/8s4qjICbLt2TEbr35G",
      "include_colab_link": true
    },
    "kernelspec": {
      "name": "python3",
      "display_name": "Python 3"
    },
    "language_info": {
      "name": "python"
    }
  },
  "cells": [
    {
      "cell_type": "markdown",
      "metadata": {
        "id": "view-in-github",
        "colab_type": "text"
      },
      "source": [
        "<a href=\"https://colab.research.google.com/github/Jaejuna/LearningAlgo/blob/main/p_96_%EC%88%AB%EC%9E%90_%EC%B9%B4%EB%93%9C_%EA%B2%8C%EC%9E%84.ipynb\" target=\"_parent\"><img src=\"https://colab.research.google.com/assets/colab-badge.svg\" alt=\"Open In Colab\"/></a>"
      ]
    },
    {
      "cell_type": "code",
      "metadata": {
        "id": "u1rXhbEB3GOd"
      },
      "source": [
        "#input for first line\n",
        "n, m = map(int, input().split())\n",
        "\n",
        "result = 0\n",
        "\n",
        "#inputs for cards\n",
        "for n in range(n):\n",
        "  data = list(map(int, input().split()))\n",
        "  min_value = min(data)\n",
        "  result = max(result, min_value)\n",
        "\n",
        "print(result)"
      ],
      "execution_count": null,
      "outputs": []
    },
    {
      "cell_type": "code",
      "metadata": {
        "id": "F75HfnAU48oL"
      },
      "source": [
        "n, m = map(int, input().split())\n",
        "\n",
        "result = 0\n",
        "\n",
        "for n in range(n):\n",
        "  data = list(map(int, input().split()))\n",
        "  min_value = min(data)\n",
        "  for a in data:\n",
        "    min_value = min(min_value, a)\n",
        "  result = max(result, min_value)\n",
        "\n",
        "print(result)"
      ],
      "execution_count": null,
      "outputs": []
    }
  ]
}