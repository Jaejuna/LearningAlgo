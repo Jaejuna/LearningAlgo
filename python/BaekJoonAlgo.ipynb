{
  "nbformat": 4,
  "nbformat_minor": 0,
  "metadata": {
    "colab": {
      "name": "BaekJoonAlgo",
      "provenance": [],
      "authorship_tag": "ABX9TyPKfzYTN7F5KIkbg4TR6zIh",
      "include_colab_link": true
    },
    "kernelspec": {
      "name": "python3",
      "display_name": "Python 3"
    },
    "language_info": {
      "name": "python"
    }
  },
  "cells": [
    {
      "cell_type": "markdown",
      "metadata": {
        "id": "view-in-github",
        "colab_type": "text"
      },
      "source": [
        "<a href=\"https://colab.research.google.com/github/Jaejuna/LearningAlgo/blob/main/BaekJoonAlgo.ipynb\" target=\"_parent\"><img src=\"https://colab.research.google.com/assets/colab-badge.svg\" alt=\"Open In Colab\"/></a>"
      ]
    },
    {
      "cell_type": "code",
      "metadata": {
        "colab": {
          "base_uri": "https://localhost:8080/"
        },
        "id": "uZVV-1HyA_km",
        "outputId": "ad8a5227-457d-461b-fbbb-d6f917a07af4"
      },
      "source": [
        "#백준 1110\n",
        "num = int(input())\n",
        "check = num\n",
        "new_num = 0\n",
        "temp = 0\n",
        "count = 0\n",
        "while True:\n",
        "    temp = num//10 + num%10\n",
        "    new_num = (num%10)*10 + temp%10\n",
        "    count += 1\n",
        "    num = new_num\n",
        "    if new_num == check:\n",
        "        break\n",
        "print(count)"
      ],
      "execution_count": null,
      "outputs": [
        {
          "output_type": "stream",
          "name": "stdout",
          "text": [
            "55\n",
            "3\n"
          ]
        }
      ]
    }
  ]
}