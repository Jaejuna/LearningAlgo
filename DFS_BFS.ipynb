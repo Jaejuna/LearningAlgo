{
  "nbformat": 4,
  "nbformat_minor": 0,
  "metadata": {
    "colab": {
      "provenance": [],
      "authorship_tag": "ABX9TyMuoyRhVmTBPYnG4EuoB8Ia",
      "include_colab_link": true
    },
    "kernelspec": {
      "name": "python3",
      "display_name": "Python 3"
    },
    "language_info": {
      "name": "python"
    }
  },
  "cells": [
    {
      "cell_type": "markdown",
      "metadata": {
        "id": "view-in-github",
        "colab_type": "text"
      },
      "source": [
        "<a href=\"https://colab.research.google.com/github/Jaejuna/LearningAlgo/blob/main/DFS_BFS.ipynb\" target=\"_parent\"><img src=\"https://colab.research.google.com/assets/colab-badge.svg\" alt=\"Open In Colab\"/></a>"
      ]
    },
    {
      "cell_type": "code",
      "execution_count": 2,
      "metadata": {
        "id": "hGJDbgtOoP2i",
        "colab": {
          "base_uri": "https://localhost:8080/"
        },
        "outputId": "b4d3781d-dc56-464e-dede-d41ae91708bc"
      },
      "outputs": [
        {
          "output_type": "stream",
          "name": "stdout",
          "text": [
            "5 5\n",
            "00110\n",
            "00011\n",
            "11111\n",
            "00000\n",
            "11111\n",
            "3\n"
          ]
        }
      ],
      "source": [
        "# 음료수 얼려 먹기\n",
        "n, m = map(int, input().split())\n",
        "\n",
        "# 그래프 입력 받기\n",
        "graph = []\n",
        "for i in range(n):\n",
        "  graph.append(list(map(int, input())))\n",
        "\n",
        "# DFS로 특정한 노드를 방문한 뒤에 연결된 모든 노드들도 방문\n",
        "def dfs(x, y):\n",
        "  # 범위 제한\n",
        "  if x <= -1 or x >= n or y <= -1 or y >= m:\n",
        "    return False\n",
        "  # 현재 노드 위치 방문 여부 확인\n",
        "  if graph[x][y] == 0:\n",
        "    # 안 되어 있을시 방문 처리\n",
        "    graph[x][y] = 1\n",
        "    dfs(x - 1, y)\n",
        "    dfs(x + 1, y)\n",
        "    dfs(x, y - 1)\n",
        "    dfs(x, y + 1)\n",
        "    return True\n",
        "  return False\n",
        "\n",
        "result = 0\n",
        "for i in range(n):\n",
        "  for j in range(m):\n",
        "    # 현재 위치에서 dfs 수행\n",
        "    if dfs(i, j) == True:\n",
        "      result += 1\n",
        "\n",
        "print(result)"
      ]
    },
    {
      "cell_type": "code",
      "source": [
        "# 미로 탈출\n",
        "from collections import deque\n",
        "\n",
        "n, m = map(int, input().split())\n",
        "\n",
        "# 그래프 입력 받기\n",
        "graph = []\n",
        "for i in range(n):\n",
        "  graph.append(list(map(int, input())))\n",
        "\n",
        "# 이동할 네 뱡향 정의(상, 하, 좌, 우)\n",
        "dx = [-1, 1, 0, 0]\n",
        "dy = [0, 0, -1, 1]\n",
        "\n",
        "def bfs(x, y):\n",
        "  # deque 라이브러리 사용\n",
        "  queue = deque()\n",
        "  queue.append(x, y)\n",
        "  # 큐가 빌 때까지 반복\n",
        "  while queue:\n",
        "    x, y = queue.popleft()\n",
        "    # 현재 위치에서 4가지 방향으로의 위치 확인\n",
        "    for i in range(4):\n",
        "      nx = x + dx[i]\n",
        "      ny = y + dy[i]\n",
        "      # 미로 찾기 공간을 벗어난 경우 무시\n",
        "      if nx < 0 or nx >= n or ny < 0 or ny >= m:\n",
        "        continue\n",
        "      # 괴물인 경우 무시\n",
        "      if graph[nx][ny] == 0:\n",
        "        continue\n",
        "      # 해당 노드를 처음 방문하는 경우에만 최단 거리 기록\n",
        "      if graph[nx][ny] == 1:\n",
        "        graph[nx][ny] = graph[x][y] + 1\n",
        "        queue.append((nx, ny))\n",
        "  # 가장 오른쪽 아래까지의 최단 거리 반환\n",
        "  return graph[n - 1][m - 1]\n",
        "\n",
        "# BFS를 수행한 결과 출력\n",
        "print(bfs(0, 0))"
      ],
      "metadata": {
        "id": "izcEnxCP_8uH"
      },
      "execution_count": null,
      "outputs": []
    },
    {
      "cell_type": "code",
      "source": [
        "# 특정 거리의 도시 찾기\n",
        "\n",
        "from collections import deque\n",
        "\n",
        "# 도시의 개수, 도로의 개수, 거리 정보, 출발 도시 번호\n",
        "n, m, k, x = map(int, input(). split())\n",
        "graph = [[] for _ in range(n + 1)]\n",
        "\n",
        "# 모든 도로 정보 입력받기\n",
        "for _ in range(m):\n",
        "  a, b = map(int, input().split())\n",
        "  graph[a].append(b)\n",
        "  # 모든 도시에 대한 최단 거리 초기화\n",
        "  distance = [-1] * (n + 1)\n",
        "  distance[x] = 0 # 출발 도시까지의 거리는 0으로 설정\n",
        "\n",
        "  # 너비 우선 탐색(BFS) 수행\n",
        "  q = deque([x])\n",
        "  while q:\n",
        "    now = q.popleft()\n",
        "    # 현재 도시에서 이동할 수 있는 모든 도시를 확인\n",
        "    for next_node in graph[now]:\n",
        "      # 아직 방문하지 않은 도시라면\n",
        "      if distance[next_node] == -1:\n",
        "        # 최단 거리 갱신\n",
        "        distance[next_node] = distance[now] + 1\n",
        "        q.append(next_node)\n",
        "\n",
        "  # 최단 거리가 K인 모든 도시의 번호를 오름차순으로 출력\n",
        "  check = False\n",
        "  for i in range(1, n + 1):\n",
        "    if distance[i] == k:\n",
        "      print(i)\n",
        "      check = True\n",
        "\n",
        "  # 만약 최단 거리가 K인 도시가 없다면, -1 출력\n",
        "  if check == False:\n",
        "    print(-1)"
      ],
      "metadata": {
        "id": "KYkSXok9HDp2"
      },
      "execution_count": null,
      "outputs": []
    },
    {
      "cell_type": "code",
      "source": [
        "# 연구소"
      ],
      "metadata": {
        "id": "kFve8mQxHFYo"
      },
      "execution_count": null,
      "outputs": []
    },
    {
      "cell_type": "code",
      "source": [
        "# 경쟁적 전염"
      ],
      "metadata": {
        "id": "CX0_8NGwHGxN"
      },
      "execution_count": null,
      "outputs": []
    },
    {
      "cell_type": "code",
      "source": [
        "# 괄호 변환"
      ],
      "metadata": {
        "id": "hbPp6thaHI-V"
      },
      "execution_count": null,
      "outputs": []
    },
    {
      "cell_type": "code",
      "source": [
        "# 연산자 끼워 넣기"
      ],
      "metadata": {
        "id": "01Ta8aWTHLCV"
      },
      "execution_count": null,
      "outputs": []
    },
    {
      "cell_type": "code",
      "source": [
        "# 감시 피하기"
      ],
      "metadata": {
        "id": "cr9Io8q-HNEe"
      },
      "execution_count": null,
      "outputs": []
    },
    {
      "cell_type": "code",
      "source": [
        "# 인구 이동"
      ],
      "metadata": {
        "id": "FXtRHAM8HOdp"
      },
      "execution_count": null,
      "outputs": []
    },
    {
      "cell_type": "code",
      "source": [
        "# 블록 이동하기"
      ],
      "metadata": {
        "id": "-OtdlsEKHRB4"
      },
      "execution_count": null,
      "outputs": []
    },
    {
      "cell_type": "code",
      "source": [
        "# 2606 바이러스\n",
        "n = int(input())\n",
        "\n",
        "graph = []\n",
        "for i in range(n):\n",
        "  graph.append(list(map(int, input())))\n",
        "\n",
        "def dfs(a, b):\n",
        "  if graph[a][b] == 0:\n",
        "    graph[a][b] == 1"
      ],
      "metadata": {
        "id": "JTRuwILyHSFg"
      },
      "execution_count": null,
      "outputs": []
    },
    {
      "cell_type": "code",
      "source": [
        "# 바이러스 답안지\n",
        "\n",
        "n=int(input()) # 컴퓨터 개수\n",
        "v=int(input()) # 연결선 개수\n",
        "\n",
        "graph = [[] for i in range(n+1)] # 그래프 초기화\n",
        "\n",
        "visited=[0]*(n+1) # 방문한 컴퓨터인지 표시\n",
        "for i in range(v): # 그래프 생성\n",
        "    a,b=map(int,input().split())\n",
        "    graph[a]+=[b] # a에 b 연결\n",
        "    graph[b]+=[a] # b에 a 연결 -> 양방향\n",
        "\n",
        "def dfs(v):\n",
        "    visited[v]=1\n",
        "    for nx in graph[v]:\n",
        "        if visited[nx]==0:\n",
        "            dfs(nx)\n",
        "            \n",
        "dfs(1)\n",
        "print(sum(visited)-1)"
      ],
      "metadata": {
        "id": "xrrVpaScRZ8i"
      },
      "execution_count": null,
      "outputs": []
    }
  ]
}