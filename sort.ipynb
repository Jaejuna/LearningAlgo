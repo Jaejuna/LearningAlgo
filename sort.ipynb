{
  "cells": [
    {
      "cell_type": "markdown",
      "metadata": {
        "colab_type": "text",
        "id": "view-in-github"
      },
      "source": [
        "<a href=\"https://colab.research.google.com/github/Jaejuna/LearningAlgo/blob/main/sort.ipynb\" target=\"_parent\"><img src=\"https://colab.research.google.com/assets/colab-badge.svg\" alt=\"Open In Colab\"/></a>"
      ]
    },
    {
      "cell_type": "code",
      "execution_count": 12,
      "metadata": {
        "colab": {
          "base_uri": "https://localhost:8080/"
        },
        "id": "LK6l5rs9bbQa",
        "outputId": "bdc7e32f-3b2c-4448-bda7-05166c71cf71"
      },
      "outputs": [
        {
          "name": "stdout",
          "output_type": "stream",
          "text": [
            "[0, 1, 2, 4, 3, 5, 6, 9, 7, 8]\n"
          ]
        }
      ],
      "source": [
        "# 선택 정렬\n",
        "array = [7, 5, 9, 0, 3, 1, 6, 2, 4, 8]\n",
        "\n",
        "for i in range(len(array)):\n",
        "  min_index = i\n",
        "  for j in range(i + i, len(array)):\n",
        "    if array[min_index] > array[j]:\n",
        "      min_index = j\n",
        "  array[i], array[min_index] = array[min_index], array[i]\n",
        "\n",
        "print(array) "
      ]
    },
    {
      "cell_type": "code",
      "execution_count": 13,
      "metadata": {
        "colab": {
          "base_uri": "https://localhost:8080/"
        },
        "id": "dFk49bS5inZ7",
        "outputId": "bf525c0e-2b93-4351-8b17-5de7dce3027d"
      },
      "outputs": [
        {
          "name": "stdout",
          "output_type": "stream",
          "text": [
            "[0, 1, 2, 3, 4, 5, 6, 7, 8, 9]\n"
          ]
        }
      ],
      "source": [
        "# 삽입 정렬\n",
        "array = [7, 5, 9, 0, 3, 1, 6, 2, 4, 8]\n",
        "\n",
        "for i in range(1, len(array)):\n",
        "  for j in range(i, 0, -1):\n",
        "    if array[j] < array[j-1]:\n",
        "      array[j], array[j-1] = array[j-1], array[j]\n",
        "    else:\n",
        "      break\n",
        "\n",
        "print(array) "
      ]
    },
    {
      "cell_type": "code",
      "execution_count": 16,
      "metadata": {
        "colab": {
          "base_uri": "https://localhost:8080/"
        },
        "id": "dC70uUjhjCd0",
        "outputId": "c1e2f9ba-f456-4065-f79a-8329fd13f4e2"
      },
      "outputs": [
        {
          "name": "stdout",
          "output_type": "stream",
          "text": [
            "[0, 1, 2, 3, 4, 5, 6, 7, 8, 9]\n"
          ]
        }
      ],
      "source": [
        "# 퀵 정렬\n",
        "array = [7, 5, 9, 0, 3, 1, 6, 2, 4, 8]\n",
        "\n",
        "def quick_sort(array, start, end):\n",
        "  if start >= end:\n",
        "    return\n",
        "  pivot = start\n",
        "  left = start + 1\n",
        "  right = end\n",
        "  while(left<=right):\n",
        "    while(left<=end and array[left]<=array[pivot]):\n",
        "      left += 1\n",
        "    while(right>start and array[right]>=array[pivot]):\n",
        "      right -= 1\n",
        "    if (left>right):\n",
        "      array[right], array[pivot] = array[pivot], array[right]\n",
        "    else:\n",
        "      array[left], array[right] = array[right], array[left]\n",
        "  quick_sort(array, start, right-1)\n",
        "  quick_sort(array, right+1, end)\n",
        "\n",
        "quick_sort(array, 0, len(array)-1)\n",
        "print(array)"
      ]
    },
    {
      "cell_type": "code",
      "execution_count": 17,
      "metadata": {
        "colab": {
          "base_uri": "https://localhost:8080/"
        },
        "id": "AYg5H8J5kURL",
        "outputId": "c5fa0861-7029-4a42-d53c-d180a0cf3063"
      },
      "outputs": [
        {
          "name": "stdout",
          "output_type": "stream",
          "text": [
            "0 0 1 1 2 2 3 4 5 5 6 7 8 9 9 "
          ]
        }
      ],
      "source": [
        "# 계수 정렬\n",
        "array = [7,5,9,0,3,1,6,2,9,1,4,8,0,5,2]\n",
        "\n",
        "count = [0]*(max(array)+1)\n",
        "\n",
        "for i in range(len(array)):\n",
        "\tcount[array[i]] += 1\n",
        "\n",
        "for i in range(len(count)):\n",
        "  for j in range(count[i]):\n",
        "    print(i, end=' ')"
      ]
    },
    {
      "cell_type": "code",
      "execution_count": 11,
      "metadata": {
        "colab": {
          "base_uri": "https://localhost:8080/"
        },
        "id": "y7GxOAUtgmoZ",
        "outputId": "4e5b3644-f8d5-469a-8976-83116799b864"
      },
      "outputs": [
        {
          "name": "stdout",
          "output_type": "stream",
          "text": [
            "3 1 2\n",
            "1 2 3\n"
          ]
        }
      ],
      "source": [
        "# 2752 세수 정렬\n",
        "n = list(map(int, input().split()))\n",
        "\n",
        "n.sort()\n",
        "print(n[0], n[1], n[2])"
      ]
    },
    {
      "cell_type": "code",
      "execution_count": null,
      "metadata": {},
      "outputs": [],
      "source": [
        "# 2751\n",
        "input_num = int(input())\n",
        "input_list = []\n",
        "\n",
        "for i in range(input_num):\n",
        "    input_list.append(int(input()))\n",
        "    \n",
        "input_list.sort()\n",
        "result = list(set(input_list))\n",
        "\n",
        "for i in range(len(result)):\n",
        "    print(result[i])"
      ]
    },
    {
      "cell_type": "code",
      "execution_count": null,
      "metadata": {},
      "outputs": [],
      "source": [
        "# 11650\n",
        "input_num = int(input())\n",
        "coordinates = []\n",
        "\n",
        "for _ in range(input_num):\n",
        "    x, y = map(int, input().split())\n",
        "    coordinates.append((x, y))\n",
        "\n",
        "coordinates.sort()\n",
        "\n",
        "for x, y in coordinates:\n",
        "    print(x, y)"
      ]
    },
    {
      "cell_type": "code",
      "execution_count": null,
      "metadata": {},
      "outputs": [],
      "source": [
        "# # 1920\n",
        "# # 내 정답\n",
        "# x = int(input())\n",
        "# x_list = list(map, int(input().split()))\n",
        "# y = int(input())\n",
        "# y_list = list(map, int(input().split()))\n",
        "\n",
        "# for i in range(y):\n",
        "#   if x_list[i] in y_list[i]:\n",
        "#     print(1)\n",
        "    \n",
        "# 이분 탐색\n",
        "# 입력\n",
        "N = int(input())\n",
        "A = list(map(int, input().split()))\n",
        "M = int(input())\n",
        "arr = list(map(int, input().split()))\n",
        "A.sort()\t\t\t# A 정렬\n",
        "\n",
        "# arr의 각 원소별로 이분탐색\n",
        "for num in arr:\n",
        "    lt, rt = 0, N - 1\t\t# lt는 맨 앞, rt는 맨 뒤\n",
        "    isExist = False\t\t# 찾음 여부\n",
        "\n",
        "    # 이분탐색 시작\n",
        "    while lt <= rt:\t\t# lt가 rt보다 커지면 반복문 탈출\n",
        "        mid = (lt + rt) // 2\t# mid는 lt와 rt의 중간값\n",
        "        if num == A[mid]:\t# num(목표값)이 A[mid]값과 같다면 (목표값 존재여부를 알았다면)\n",
        "            isExist = True\t# isExist Ture 변경\n",
        "            print(1)\t\t# 1 출력\n",
        "            break\t\t# 반복문 탈출\n",
        "        elif num > A[mid]:\t# A[mid]가 num보다 작으면\n",
        "            lt = mid + 1\t# lt를 높임\n",
        "        else:\t\t\t# A[mid]가 num보다 크다면\n",
        "            rt = mid - 1\t# rt를 낮춤\n",
        "\n",
        "    if not isExist:\t\t# 찾지 못한 경우\n",
        "        print(0)\t\t# 0 출력\n",
        "        \n",
        "# 의문의 코딩 고수의 답\n",
        "# 입력\n",
        "N = int(input())\n",
        "A = set(map(int, input().split()))\t# 탐색 시간을 줄이기 위해 set으로 받음\n",
        "M = int(input())\n",
        "arr = list(map(int, input().split()))\n",
        "\n",
        "for num in arr:\t\t\t\t# arr의 각 원소별로 탐색\n",
        "    print(1) if num in A else print(0)\t# num이 A 안에 있으면 1, 없으면 0 출력"
      ]
    },
    {
      "cell_type": "code",
      "execution_count": null,
      "metadata": {},
      "outputs": [],
      "source": []
    }
  ],
  "metadata": {
    "colab": {
      "authorship_tag": "ABX9TyMvQsHtdqcimFXu1lbxYE+N",
      "include_colab_link": true,
      "provenance": []
    },
    "kernelspec": {
      "display_name": "Python 3",
      "name": "python3"
    },
    "language_info": {
      "codemirror_mode": {
        "name": "ipython",
        "version": 3
      },
      "file_extension": ".py",
      "mimetype": "text/x-python",
      "name": "python",
      "nbconvert_exporter": "python",
      "pygments_lexer": "ipython3",
      "version": "3.10.9"
    }
  },
  "nbformat": 4,
  "nbformat_minor": 0
}
