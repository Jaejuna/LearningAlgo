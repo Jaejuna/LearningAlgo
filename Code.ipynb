{
 "cells": [
  {
   "cell_type": "code",
   "execution_count": null,
   "metadata": {},
   "outputs": [],
   "source": [
    "# 상하좌우 \n",
    "## 입력 받기\n",
    "n = int(input())\n",
    "x, y = 1, 1\n",
    "plans = input().split()\n",
    "\n",
    "## LRUD 이동 방향\n",
    "dx = [0,0,-1,1]\n",
    "dy = [-1,1,0,0]\n",
    "move_types = ['L', 'R', 'U', 'D']\n",
    "\n",
    "## 이동 계획을 하나씩 확인\n",
    "for plan in plans:\n",
    "    ## 이동 후 좌표 구하기\n",
    "    for i in range(len(move_types)): #move_types 만큼 for문 돌리기\n",
    "        if plan == move_types[i]:\n",
    "            nx = x + dx[i]\n",
    "            ny = y + dy[i]\n",
    "    ## 공간을 벗어나는 경우 \n",
    "    if nx < 1 or ny < 1 or nx > n or ny > n :\n",
    "        continue\n",
    "    ## 이동 수행\n",
    "    x, y = nx, ny\n",
    "print(x, y)"
   ]
  },
  {
   "cell_type": "code",
   "execution_count": 4,
   "metadata": {},
   "outputs": [
    {
     "name": "stdout",
     "output_type": "stream",
     "text": [
      "11475\n"
     ]
    }
   ],
   "source": [
    "#시각\n",
    "h = int(input())\n",
    "\n",
    "count = 0\n",
    "for i in range(h+1):\n",
    "    for j in range(60):\n",
    "        for k in range(60):\n",
    "            if '3' in str(i) + str(j) + str(k) :\n",
    "                count += 1\n",
    "\n",
    "print(count)"
   ]
  },
  {
   "cell_type": "code",
   "execution_count": 8,
   "metadata": {},
   "outputs": [
    {
     "name": "stdout",
     "output_type": "stream",
     "text": [
      "8\n"
     ]
    }
   ],
   "source": [
    "#왕실의 나이트\n",
    "## 현재 나이트 위치 입력받기\n",
    "location = input()\n",
    "row = int(location[1])\n",
    "##ord() 함수는 알파벳 입력을 숫자로 바꿀 때 용이한 듯 하다.\n",
    "col = int(ord(location[0])) - int(ord('a')) + 1\n",
    "\n",
    "## 나이트 이동 가능 8가지 방향\n",
    "steps = [(-2, -1), (-1, -2), (1, -2),(2, -1),(2, 1),(1, 2),(-1, 2),(-2, 1)]\n",
    "\n",
    "## 8가지 방향에 대하여 각 위치로 이동이 가능한지 확인\n",
    "result = 0\n",
    "for step in steps:\n",
    "    #이동하고자 하는 위치 확인\n",
    "    next_row = row + step[0]\n",
    "    next_col = col + step[1]\n",
    "    ## 해당 위치로 이동이 가능하다면 카운트 증가\n",
    "    if next_row >= 1 and next_row <= 8 and next_col >= 1 and next_col <= 8:\n",
    "        result += 1\n",
    "\n",
    "print(result)"
   ]
  },
  {
   "cell_type": "code",
   "execution_count": 9,
   "metadata": {},
   "outputs": [
    {
     "name": "stdout",
     "output_type": "stream",
     "text": [
      "ADGHQRS18\n"
     ]
    }
   ],
   "source": [
    "# 문자영 재정렬\n",
    "a = input()\n",
    "result = []\n",
    "value = 0\n",
    "\n",
    "## 문자 하나씩 확인\n",
    "for i in a:\n",
    "    ## 알파벳인 경우 리스트 삽입\n",
    "    if i.isalpha():\n",
    "        result.append(i)\n",
    "    ## 숫자인 경우 따로 더하기\n",
    "    else:\n",
    "        value += int(i)\n",
    "\n",
    "## 알파벳 오름차순 정리\n",
    "result.sort()\n",
    "\n",
    "## 숫자가 하나라도 존재하는 경우 가장 뒤에 삽입\n",
    "if value != 0:\n",
    "    result.append(str(value))\n",
    "    \n",
    "## 최종 결과 리스트 문자열로 변환하여 출력\n",
    "print(''.join(result))"
   ]
  }
 ],
 "metadata": {
  "kernelspec": {
   "display_name": "Python 3.7.4 64-bit",
   "language": "python",
   "name": "python3"
  },
  "language_info": {
   "codemirror_mode": {
    "name": "ipython",
    "version": 3
   },
   "file_extension": ".py",
   "mimetype": "text/x-python",
   "name": "python",
   "nbconvert_exporter": "python",
   "pygments_lexer": "ipython3",
   "version": "3.7.4"
  },
  "orig_nbformat": 4,
  "vscode": {
   "interpreter": {
    "hash": "949777d72b0d2535278d3dc13498b2535136f6dfe0678499012e853ee9abcab1"
   }
  }
 },
 "nbformat": 4,
 "nbformat_minor": 2
}
