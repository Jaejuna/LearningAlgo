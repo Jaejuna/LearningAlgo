{
  "cells": [
    {
      "cell_type": "markdown",
      "metadata": {
        "colab_type": "text",
        "id": "view-in-github"
      },
      "source": [
        "<a href=\"https://colab.research.google.com/github/Jaejuna/LearningAlgo/blob/main/%ED%8C%8C%EC%9D%B4%EC%8D%AC_%EB%AC%B8%EB%B2%95.ipynb\" target=\"_parent\"><img src=\"https://colab.research.google.com/assets/colab-badge.svg\" alt=\"Open In Colab\"/></a>"
      ]
    },
    {
      "cell_type": "markdown",
      "metadata": {
        "id": "Q1Jp2gl5uDLB"
      },
      "source": [
        "# 자료형\n"
      ]
    },
    {
      "cell_type": "markdown",
      "metadata": {
        "id": "vtJdZjxgok8O"
      },
      "source": [
        "## 수 자료형\n",
        "\n"
      ]
    },
    {
      "cell_type": "code",
      "execution_count": 1,
      "metadata": {
        "colab": {
          "base_uri": "https://localhost:8080/"
        },
        "id": "Ify9_C51ofpe",
        "outputId": "77e21fc4-4d23-489d-c327-b697305ff25b"
      },
      "outputs": [
        {
          "name": "stdout",
          "output_type": "stream",
          "text": [
            "5\n",
            "-5\n",
            "0\n"
          ]
        }
      ],
      "source": [
        "# 정수형\n",
        "a = 5\n",
        "print(a)\n",
        "\n",
        "a = -5\n",
        "print(a)\n",
        "\n",
        "a = 0\n",
        "print(a)"
      ]
    },
    {
      "cell_type": "code",
      "execution_count": 7,
      "metadata": {
        "colab": {
          "base_uri": "https://localhost:8080/"
        },
        "id": "NuRSfXDNrudN",
        "outputId": "079d67c0-52f5-4624-e432-3bac045e68f5"
      },
      "outputs": [
        {
          "name": "stdout",
          "output_type": "stream",
          "text": [
            "15.534\n",
            "-15.315\n",
            "5.0\n",
            "-0.5\n",
            "1000000000.0\n",
            "742.3\n",
            "3.531\n",
            "0.8999999999999999\n",
            "False\n",
            "0.9\n"
          ]
        }
      ],
      "source": [
        "# 실수형\n",
        "a = 15.534\n",
        "print(a)\n",
        "\n",
        "a = -15.315\n",
        "print(a)\n",
        "\n",
        "a = 5.\n",
        "print(a)\n",
        "\n",
        "a = -.5\n",
        "print(a)\n",
        "\n",
        "a = 1e9\n",
        "print(a)\n",
        "\n",
        "a = 74.23e1\n",
        "print(a)\n",
        "\n",
        "a = 3531e-3\n",
        "print(a)\n",
        "\n",
        "## 2진수로 0.9를 정확히 표현할 수 없다.\n",
        "a = 0.3 + 0.6\n",
        "print(a)\n",
        "\n",
        "if a == 0.9:\n",
        "  print(True)\n",
        "else:\n",
        "  print(False)\n",
        "\n",
        "## 이 경우 round 함수로 표현 가능\n",
        "a = 0.3 + 0.6\n",
        "print(round(a, 4))"
      ]
    },
    {
      "cell_type": "code",
      "execution_count": 8,
      "metadata": {
        "colab": {
          "base_uri": "https://localhost:8080/"
        },
        "id": "YkJMtRoXr8PN",
        "outputId": "2aee138e-69c0-41b4-ca7a-f5b9d45249b3"
      },
      "outputs": [
        {
          "name": "stdout",
          "output_type": "stream",
          "text": [
            "2.3333333333333335\n",
            "1\n",
            "2\n",
            "343\n"
          ]
        }
      ],
      "source": [
        "# 수 자료형 연산\n",
        "a = 7\n",
        "b = 3\n",
        "\n",
        "print(a / b)\n",
        "\n",
        "print(a % b)\n",
        "\n",
        "print(a // b)\n",
        "\n",
        "print(a ** b)"
      ]
    },
    {
      "cell_type": "markdown",
      "metadata": {
        "id": "Qaot9V6Mt0N4"
      },
      "source": [
        "## 리스트 자료형\n"
      ]
    },
    {
      "cell_type": "code",
      "execution_count": 9,
      "metadata": {
        "colab": {
          "base_uri": "https://localhost:8080/"
        },
        "id": "U1o-mHS-tIet",
        "outputId": "dba5a111-5fc7-4a4a-bd1c-dc7bd327e8e4"
      },
      "outputs": [
        {
          "name": "stdout",
          "output_type": "stream",
          "text": [
            "[1, 2, 3, 4, 5, 6, 7, 8, 9]\n",
            "5\n",
            "[]\n",
            "[]\n"
          ]
        }
      ],
      "source": [
        "a = [1,2,3,4,5,6,7,8,9]\n",
        "print(a)\n",
        "\n",
        "print(a[4])\n",
        "\n",
        "a = list()\n",
        "print(a)\n",
        "\n",
        "a = []\n",
        "print(a)"
      ]
    },
    {
      "cell_type": "code",
      "execution_count": 10,
      "metadata": {
        "colab": {
          "base_uri": "https://localhost:8080/"
        },
        "id": "OLR1mBo2uWIp",
        "outputId": "a2fd2694-b1d1-4dba-d347-facf1edc690d"
      },
      "outputs": [
        {
          "name": "stdout",
          "output_type": "stream",
          "text": [
            "[0, 0, 0, 0, 0, 0, 0, 0, 0, 0]\n"
          ]
        }
      ],
      "source": [
        "n = 10\n",
        "a = [0] * n\n",
        "print(a)"
      ]
    },
    {
      "cell_type": "code",
      "execution_count": 11,
      "metadata": {
        "colab": {
          "base_uri": "https://localhost:8080/"
        },
        "id": "wo4Yj9VAufi9",
        "outputId": "2f3c6531-6e56-4ed6-b8e1-f164b62b3441"
      },
      "outputs": [
        {
          "name": "stdout",
          "output_type": "stream",
          "text": [
            "9\n",
            "7\n",
            "[1, 2, 3, 7, 5, 6, 7, 8, 9]\n"
          ]
        }
      ],
      "source": [
        "# 인덱싱 \n",
        "a = [1,2,3,4,5,6,7,8,9]\n",
        "print(a[-1])\n",
        "\n",
        "print(a[-3])\n",
        "\n",
        "a[3] = 7\n",
        "print(a)"
      ]
    },
    {
      "cell_type": "code",
      "execution_count": 12,
      "metadata": {
        "colab": {
          "base_uri": "https://localhost:8080/"
        },
        "id": "njNMoDDGurvZ",
        "outputId": "a182cf0e-8461-4696-ac14-8465fc3b3a89"
      },
      "outputs": [
        {
          "name": "stdout",
          "output_type": "stream",
          "text": [
            "[2, 3, 4]\n"
          ]
        }
      ],
      "source": [
        "# 슬라이싱\n",
        "a = [1,2,3,4,5,6,7,8,9]\n",
        "\n",
        "print(a[1:4])"
      ]
    },
    {
      "cell_type": "code",
      "execution_count": 13,
      "metadata": {
        "colab": {
          "base_uri": "https://localhost:8080/"
        },
        "id": "0vm_DUOEu0Ji",
        "outputId": "8e9a147d-8707-4990-df29-0e00eb440e79"
      },
      "outputs": [
        {
          "name": "stdout",
          "output_type": "stream",
          "text": [
            "[1, 3, 5, 7, 9, 11, 13, 15, 17, 19]\n"
          ]
        }
      ],
      "source": [
        "# 리스트 컴프리핸션 (대괄호 안에 조건문, 반복문 가능)\n",
        "a = [i for i in range(20) if i % 2 == 1]\n",
        "print(a)"
      ]
    },
    {
      "cell_type": "code",
      "execution_count": 14,
      "metadata": {
        "colab": {
          "base_uri": "https://localhost:8080/"
        },
        "id": "m5xfTSjdvH4o",
        "outputId": "50aff24c-06b2-45b8-fa08-14d5d878772f"
      },
      "outputs": [
        {
          "name": "stdout",
          "output_type": "stream",
          "text": [
            "[1, 4, 9, 16, 25, 36, 49, 64, 81]\n"
          ]
        }
      ],
      "source": [
        "a = [i * i for i in range(1, 10)]\n",
        "print(a)"
      ]
    },
    {
      "cell_type": "code",
      "execution_count": 15,
      "metadata": {
        "id": "nR9TS8MKvt-R"
      },
      "outputs": [],
      "source": [
        "# 2차원 리스트\n",
        "n = 3\n",
        "m = 4\n",
        "array = [[0] * m for _ in range(n)] # '_' 는 단순 반복 변수 무시"
      ]
    },
    {
      "cell_type": "code",
      "execution_count": 16,
      "metadata": {
        "colab": {
          "base_uri": "https://localhost:8080/"
        },
        "id": "9BafJxSRwL4L",
        "outputId": "ef41104b-fc90-44ae-bd8c-6a05cb961442"
      },
      "outputs": [
        {
          "name": "stdout",
          "output_type": "stream",
          "text": [
            "[[0, 0, 0, 0], [0, 0, 0, 0], [0, 0, 0, 0]]\n",
            "[[0, 5, 0, 0], [0, 5, 0, 0], [0, 5, 0, 0]]\n"
          ]
        }
      ],
      "source": [
        "# 2차원 리스트 초기화시 컴프리헨션을 사용하지 않아 잘못 나온 결과 예시\n",
        "n = 3\n",
        "m = 4\n",
        "array = [[0] * m] * n\n",
        "print(array)\n",
        "\n",
        "array[1][1] = 5\n",
        "print(array)"
      ]
    },
    {
      "cell_type": "code",
      "execution_count": 18,
      "metadata": {
        "colab": {
          "base_uri": "https://localhost:8080/"
        },
        "id": "uUqLEJShwqYS",
        "outputId": "16faf0c7-695d-4b1f-fa5a-a7e391c67f45"
      },
      "outputs": [
        {
          "name": "stdout",
          "output_type": "stream",
          "text": [
            "기본 리스트:  [1, 4, 3]\n",
            "[1, 4, 3, 2]\n",
            "[1, 2, 3, 4]\n",
            "[4, 3, 2, 1]\n",
            "[1, 2, 3, 4]\n",
            "[1, 2, 3, 3, 4]\n",
            "2\n",
            "[2, 3, 3, 4]\n"
          ]
        }
      ],
      "source": [
        "# 리스트 관련 메소드\n",
        "a = [1, 4, 3]\n",
        "print(\"기본 리스트: \", a)\n",
        "\n",
        "# 원소 삽입\n",
        "a.append(2)   # O(1)\n",
        "print(a)\n",
        "\n",
        "# 오름차순 정렬\n",
        "a.sort()\n",
        "print(a)\n",
        "\n",
        "# 내림차순 정렬\n",
        "a.sort(reverse=True)\n",
        "print(a)\n",
        "\n",
        "# 리스트 원소 뒤집기\n",
        "a.reverse()\n",
        "print(a)\n",
        "\n",
        "# 특정 인덱스에 데이터 추가\n",
        "a.insert(2, 3)    # O(n)\n",
        "print(a)\n",
        "\n",
        "# 특정 값인 데이터 개수 세기\n",
        "print(a.count(3))\n",
        "\n",
        "# 특정 데이터 삭제\n",
        "a.remove(1)\n",
        "print(a)"
      ]
    },
    {
      "cell_type": "code",
      "execution_count": 19,
      "metadata": {
        "colab": {
          "base_uri": "https://localhost:8080/"
        },
        "id": "F9C3k7CFx8yT",
        "outputId": "a9c0458b-50ac-4a7e-9a00-54593350b1e9"
      },
      "outputs": [
        {
          "name": "stdout",
          "output_type": "stream",
          "text": [
            "[1, 2, 4]\n"
          ]
        }
      ],
      "source": [
        "# 리스트 연산(?)\n",
        "a = [1,2,3,4,5,5,5]\n",
        "remove_set ={3,5}\n",
        "\n",
        "result = [i for i in a if i not in remove_set]\n",
        "print(result)"
      ]
    },
    {
      "cell_type": "markdown",
      "metadata": {
        "id": "x0GSpTJJykyi"
      },
      "source": [
        "## 문자열 자료형"
      ]
    },
    {
      "cell_type": "code",
      "execution_count": 20,
      "metadata": {
        "colab": {
          "base_uri": "https://localhost:8080/"
        },
        "id": "z7VlkG_5ytbv",
        "outputId": "42f331d7-6395-4af6-8a12-fa9e140f9577"
      },
      "outputs": [
        {
          "name": "stdout",
          "output_type": "stream",
          "text": [
            "Hello world\n",
            "Don't you know \"Python\"?\n"
          ]
        }
      ],
      "source": [
        "# 문자열 초기화\n",
        "a = \"Hello world\"\n",
        "print(a)\n",
        "\n",
        "a = \"Don't you know \\\"Python\\\"?\"\n",
        "print(a)"
      ]
    },
    {
      "cell_type": "code",
      "execution_count": 21,
      "metadata": {
        "colab": {
          "base_uri": "https://localhost:8080/"
        },
        "id": "Es_Q1Bl1y8kE",
        "outputId": "0d5062b1-edf2-4ef8-ed30-25de72f5cf6e"
      },
      "outputs": [
        {
          "name": "stdout",
          "output_type": "stream",
          "text": [
            "Hello World\n"
          ]
        }
      ],
      "source": [
        "# 문자열 연산\n",
        "a = \"Hello\"\n",
        "b = \"World\"\n",
        "\n",
        "print(a + \" \" + b)"
      ]
    },
    {
      "cell_type": "code",
      "execution_count": 22,
      "metadata": {
        "colab": {
          "base_uri": "https://localhost:8080/"
        },
        "id": "ZF0jlF5JzGCM",
        "outputId": "7f287638-4883-4cbc-9efd-96e0d2b85935"
      },
      "outputs": [
        {
          "name": "stdout",
          "output_type": "stream",
          "text": [
            "StringStringString\n"
          ]
        }
      ],
      "source": [
        "a = \"String\"\n",
        "print(a * 3)"
      ]
    },
    {
      "cell_type": "code",
      "execution_count": 24,
      "metadata": {
        "colab": {
          "base_uri": "https://localhost:8080/"
        },
        "id": "xH8B37sjzKt9",
        "outputId": "154fd637-b7f8-473f-9f48-7d9fd21fd030"
      },
      "outputs": [
        {
          "name": "stdout",
          "output_type": "stream",
          "text": [
            "CD\n"
          ]
        }
      ],
      "source": [
        "# 문자열 인덱싱\n",
        "a = \"ABCDEF\"\n",
        "print(a[2:4])"
      ]
    },
    {
      "cell_type": "markdown",
      "metadata": {
        "id": "qr0C1BvZzTL0"
      },
      "source": [
        "## 튜플 자료형"
      ]
    },
    {
      "cell_type": "code",
      "execution_count": 26,
      "metadata": {
        "colab": {
          "base_uri": "https://localhost:8080/",
          "height": 227
        },
        "id": "5h_Ss1OjzaD-",
        "outputId": "ea8e1d6c-9686-4162-d904-7b09c56814ac"
      },
      "outputs": [
        {
          "name": "stdout",
          "output_type": "stream",
          "text": [
            "(1, 2, 3, 4)\n"
          ]
        },
        {
          "ename": "TypeError",
          "evalue": "ignored",
          "output_type": "error",
          "traceback": [
            "\u001b[0;31m---------------------------------------------------------------------------\u001b[0m",
            "\u001b[0;31mTypeError\u001b[0m                                 Traceback (most recent call last)",
            "\u001b[0;32m<ipython-input-26-c29a71f55404>\u001b[0m in \u001b[0;36m<module>\u001b[0;34m\u001b[0m\n\u001b[1;32m      4\u001b[0m \u001b[0mprint\u001b[0m\u001b[0;34m(\u001b[0m\u001b[0ma\u001b[0m\u001b[0;34m)\u001b[0m\u001b[0;34m\u001b[0m\u001b[0;34m\u001b[0m\u001b[0m\n\u001b[1;32m      5\u001b[0m \u001b[0;34m\u001b[0m\u001b[0m\n\u001b[0;32m----> 6\u001b[0;31m \u001b[0ma\u001b[0m\u001b[0;34m[\u001b[0m\u001b[0;36m2\u001b[0m\u001b[0;34m]\u001b[0m \u001b[0;34m=\u001b[0m \u001b[0;36m7\u001b[0m  \u001b[0;31m# 변경 시도\u001b[0m\u001b[0;34m\u001b[0m\u001b[0;34m\u001b[0m\u001b[0m\n\u001b[0m",
            "\u001b[0;31mTypeError\u001b[0m: 'tuple' object does not support item assignment"
          ]
        }
      ],
      "source": [
        "# 한 번 선언 된 값은 변경 불가\n",
        "# 소괄호 '()'로 선언한다\n",
        "a = (1,2,3,4)\n",
        "print(a)\n",
        "\n",
        "a[2] = 7  # 변경 시도"
      ]
    },
    {
      "cell_type": "markdown",
      "metadata": {
        "id": "LmISw-luzgoB"
      },
      "source": [
        "## 사전 자료형"
      ]
    },
    {
      "cell_type": "code",
      "execution_count": 27,
      "metadata": {
        "colab": {
          "base_uri": "https://localhost:8080/"
        },
        "id": "GHgSpfTfzjR3",
        "outputId": "2ae2664a-393d-4efc-ef20-2d0a0c5f3c24"
      },
      "outputs": [
        {
          "name": "stdout",
          "output_type": "stream",
          "text": [
            "{'사과': 'Apple', '바나나': 'Banana', '코코넛': 'Coconut'}\n"
          ]
        }
      ],
      "source": [
        "# key-value 구조의 자료형\n",
        "a = dict()\n",
        "a['사과'] = \"Apple\"\n",
        "a['바나나'] = \"Banana\"\n",
        "a['코코넛'] = \"Coconut\"\n",
        "\n",
        "print(a)"
      ]
    },
    {
      "cell_type": "code",
      "execution_count": 28,
      "metadata": {
        "colab": {
          "base_uri": "https://localhost:8080/"
        },
        "id": "IpuzqNWr1OMO",
        "outputId": "90f71188-16ba-4d96-b87e-66e5f10dc2dd"
      },
      "outputs": [
        {
          "name": "stdout",
          "output_type": "stream",
          "text": [
            "사과가 있어용\n"
          ]
        }
      ],
      "source": [
        "a = dict()\n",
        "a['사과'] = \"Apple\"\n",
        "a['바나나'] = \"Banana\"\n",
        "a['코코넛'] = \"Coconut\"\n",
        "\n",
        "if '사과' in a:\n",
        "  print(\"사과가 있어용\")\n"
      ]
    },
    {
      "cell_type": "code",
      "execution_count": 29,
      "metadata": {
        "colab": {
          "base_uri": "https://localhost:8080/"
        },
        "id": "uR0PtOrB1qNr",
        "outputId": "b7f297a7-c7cf-48d7-afe1-1b719be8fb66"
      },
      "outputs": [
        {
          "name": "stdout",
          "output_type": "stream",
          "text": [
            "dict_keys(['사과', '바나나', '코코넛'])\n",
            "dict_values(['Apple', 'Banana', 'Coconut'])\n",
            "Apple\n",
            "Banana\n",
            "Coconut\n"
          ]
        }
      ],
      "source": [
        "# 사전 자료형 함수\n",
        "a = dict()\n",
        "a['사과'] = \"Apple\"\n",
        "a['바나나'] = \"Banana\"\n",
        "a['코코넛'] = \"Coconut\"\n",
        "\n",
        "# 키 데이터만 담은 리스트\n",
        "key_list = a.keys()\n",
        "# 값 데이터 리스트\n",
        "value_list = a.values()\n",
        "print(key_list)\n",
        "print(value_list)\n",
        "\n",
        "# 각 키에 값 하나씩 출력\n",
        "for key in key_list:\n",
        "  print(a[key])"
      ]
    },
    {
      "cell_type": "markdown",
      "metadata": {
        "id": "DHPQvdxjzjsV"
      },
      "source": [
        "## 집합 자료형"
      ]
    },
    {
      "cell_type": "code",
      "execution_count": 30,
      "metadata": {
        "colab": {
          "base_uri": "https://localhost:8080/"
        },
        "id": "z2RWXbymzoov",
        "outputId": "e28ddf2e-931a-4310-9902-cebd4ea7fd63"
      },
      "outputs": [
        {
          "name": "stdout",
          "output_type": "stream",
          "text": [
            "{1, 2, 3, 4, 5}\n",
            "{1, 2, 3, 4, 5}\n"
          ]
        }
      ],
      "source": [
        "# 중복을 허용하지 않는다.\n",
        "# 순서가 없다.\n",
        "a = set([1,2,3,4,4,5])\n",
        "print(a)\n",
        "\n",
        "a = {1,2,3,4,4,5}\n",
        "print(a)"
      ]
    },
    {
      "cell_type": "code",
      "execution_count": 31,
      "metadata": {
        "colab": {
          "base_uri": "https://localhost:8080/"
        },
        "id": "oCYby-Rs2vBz",
        "outputId": "4e0bebc3-d45f-4a42-8520-16bd356a289f"
      },
      "outputs": [
        {
          "name": "stdout",
          "output_type": "stream",
          "text": [
            "{1, 2, 3, 4, 5, 6, 7}\n",
            "{3, 4, 5}\n",
            "{1, 2}\n"
          ]
        }
      ],
      "source": [
        "a = {1,2,3,4,5}\n",
        "b = {3,4,5,6,7}\n",
        "\n",
        "print(a|b)  # 합집합\n",
        "print(a&b)  # 교집합\n",
        "print(a-b)  # 차집합"
      ]
    },
    {
      "cell_type": "code",
      "execution_count": 33,
      "metadata": {
        "colab": {
          "base_uri": "https://localhost:8080/"
        },
        "id": "yz7TxksT28xn",
        "outputId": "a461adae-4570-447b-d72b-ba6f76f9af0e"
      },
      "outputs": [
        {
          "name": "stdout",
          "output_type": "stream",
          "text": [
            "{1, 2, 3}\n",
            "{1, 2, 3, 4}\n",
            "{1, 2, 3, 4, 5, 6}\n",
            "{1, 2, 4, 5, 6}\n"
          ]
        }
      ],
      "source": [
        "# 집합 관련 함수\n",
        "a = {1,2,3}\n",
        "print(a)\n",
        "\n",
        "a.add(4)\n",
        "print(a)\n",
        "\n",
        "a.update([5,6])\n",
        "print(a)\n",
        "\n",
        "a.remove(3)\n",
        "print(a)"
      ]
    },
    {
      "cell_type": "markdown",
      "metadata": {
        "id": "icLGWYJv3Naq"
      },
      "source": [
        "# 조건문"
      ]
    },
    {
      "cell_type": "code",
      "execution_count": 34,
      "metadata": {
        "colab": {
          "base_uri": "https://localhost:8080/"
        },
        "id": "gNxZtUW23XVM",
        "outputId": "308f2e82-3a3e-42d2-a178-56647ce1c789"
      },
      "outputs": [
        {
          "name": "stdout",
          "output_type": "stream",
          "text": [
            "15\n"
          ]
        }
      ],
      "source": [
        "a = 15\n",
        "\n",
        "if a >= 10:\n",
        "  print(a)"
      ]
    },
    {
      "cell_type": "code",
      "execution_count": 36,
      "metadata": {
        "colab": {
          "base_uri": "https://localhost:8080/"
        },
        "id": "XHcokZKi6KR9",
        "outputId": "0238cb8d-f1f7-44a9-d342-cb9adfb952c1"
      },
      "outputs": [
        {
          "name": "stdout",
          "output_type": "stream",
          "text": [
            "B\n"
          ]
        }
      ],
      "source": [
        "score = 85\n",
        "\n",
        "if score >= 90:\n",
        "  print(\"A\")\n",
        "elif score >= 80:\n",
        "  print(\"B\")\n",
        "elif score >= 70:\n",
        "  print(\"C\")\n",
        "else:\n",
        "  print(\"D\")"
      ]
    },
    {
      "cell_type": "code",
      "execution_count": 37,
      "metadata": {
        "colab": {
          "base_uri": "https://localhost:8080/"
        },
        "id": "mYtnTl1z6Q87",
        "outputId": "2f7bc1bb-47d2-4a51-b857-26bd3407177c"
      },
      "outputs": [
        {
          "name": "stdout",
          "output_type": "stream",
          "text": [
            "성적이 70점 이상입니다.\n",
            "프로그램 종료\n"
          ]
        }
      ],
      "source": [
        "score = 85\n",
        "\n",
        "if score >= 70:\n",
        "  print('성적이 70점 이상입니다.')\n",
        "  if score >= 90:\n",
        "    print('우수한 성적입니다.')\n",
        "\n",
        "else:\n",
        "  print('성적이 70점 미만입니다.')\n",
        "  print('좀 더 분발하세요.')\n",
        "\n",
        "print('프로그램 종료')"
      ]
    },
    {
      "cell_type": "code",
      "execution_count": 38,
      "metadata": {
        "colab": {
          "base_uri": "https://localhost:8080/"
        },
        "id": "ZBK-AK4t6zy8",
        "outputId": "e66c32eb-1a68-48b8-fbde-a21c91788929"
      },
      "outputs": [
        {
          "name": "stdout",
          "output_type": "stream",
          "text": [
            "Success\n"
          ]
        }
      ],
      "source": [
        "# 조건부 표현식\n",
        "score = 85\n",
        "result = \"Success\" if score >= 80 else \"Fail\"\n",
        "\n",
        "print(result)"
      ]
    },
    {
      "cell_type": "code",
      "execution_count": 41,
      "metadata": {
        "colab": {
          "base_uri": "https://localhost:8080/"
        },
        "id": "HiInkG4h7dLx",
        "outputId": "b58ac16f-9049-4e8a-cbf8-4bb21734fba7"
      },
      "outputs": [
        {
          "name": "stdout",
          "output_type": "stream",
          "text": [
            "[1, 2, 4]\n",
            "[1, 2, 4]\n"
          ]
        }
      ],
      "source": [
        "a = [1,2,3,4,5,5,5]\n",
        "remove_set ={3,5}\n",
        "\n",
        "result = []\n",
        "for i in a:\n",
        "  if i not in remove_set:\n",
        "    result.append(i)\n",
        "\n",
        "print(result)\n",
        "\n",
        "# 위 구현을 조건문으로 더 간단하게\n",
        "a = [1,2,3,4,5,5,5]\n",
        "remove_set ={3,5}\n",
        "\n",
        "result = [i for i in a if i not in remove_set]\n",
        "print(result)"
      ]
    },
    {
      "cell_type": "markdown",
      "metadata": {
        "id": "WaJLrvDz7TBy"
      },
      "source": [
        "# 반복문"
      ]
    },
    {
      "cell_type": "markdown",
      "metadata": {
        "id": "KPj-YZy27xLb"
      },
      "source": [
        "## while 문"
      ]
    },
    {
      "cell_type": "code",
      "execution_count": 42,
      "metadata": {
        "colab": {
          "base_uri": "https://localhost:8080/"
        },
        "id": "ZmaPTSF-71K-",
        "outputId": "435fc90b-56c8-4abb-9edb-5e2c93a63201"
      },
      "outputs": [
        {
          "name": "stdout",
          "output_type": "stream",
          "text": [
            "45\n"
          ]
        }
      ],
      "source": [
        "i = 1\n",
        "result = 0\n",
        "\n",
        "while i <= 9:\n",
        "  result += i\n",
        "  i += 1\n",
        "\n",
        "print(result)"
      ]
    },
    {
      "cell_type": "code",
      "execution_count": 43,
      "metadata": {
        "colab": {
          "base_uri": "https://localhost:8080/"
        },
        "id": "tI8tTr3G7lz0",
        "outputId": "ca319c58-75f5-48d4-d2c8-bcab0afd1e6b"
      },
      "outputs": [
        {
          "name": "stdout",
          "output_type": "stream",
          "text": [
            "25\n"
          ]
        }
      ],
      "source": [
        "i = 1\n",
        "result = 0\n",
        "\n",
        "while i <= 9:\n",
        "  if i % 2 == 1:\n",
        "    result += i\n",
        "  i += 1\n",
        "\n",
        "print(result)"
      ]
    },
    {
      "cell_type": "markdown",
      "metadata": {
        "id": "OMZerWO28GYC"
      },
      "source": [
        "## for 문"
      ]
    },
    {
      "cell_type": "code",
      "execution_count": 44,
      "metadata": {
        "colab": {
          "base_uri": "https://localhost:8080/"
        },
        "id": "sJlHlzuN8JKx",
        "outputId": "1c25de27-ffd7-4d54-a19c-20812b5cd3ff"
      },
      "outputs": [
        {
          "name": "stdout",
          "output_type": "stream",
          "text": [
            "45\n"
          ]
        }
      ],
      "source": [
        "result = 0\n",
        "\n",
        "for i in range(1,10):\n",
        "  result += i\n",
        "\n",
        "print(result)"
      ]
    },
    {
      "cell_type": "code",
      "execution_count": 45,
      "metadata": {
        "colab": {
          "base_uri": "https://localhost:8080/"
        },
        "id": "gTeYfL2v9Ihm",
        "outputId": "e8199a12-be26-474b-b4aa-74d2a239b64f"
      },
      "outputs": [
        {
          "name": "stdout",
          "output_type": "stream",
          "text": [
            "1 번 학생은 합격입니다.\n",
            "2 번 학생은 합격입니다.\n",
            "5 번 학생은 합격입니다.\n"
          ]
        }
      ],
      "source": [
        "scores = [90, 85, 77, 65, 97]\n",
        "\n",
        "for i in range(5):\n",
        "  if scores[i] >= 80:\n",
        "    print(i+1, \"번 학생은 합격입니다.\")"
      ]
    },
    {
      "cell_type": "code",
      "execution_count": 46,
      "metadata": {
        "colab": {
          "base_uri": "https://localhost:8080/"
        },
        "id": "OAYx1csu9V0I",
        "outputId": "df6cd6ee-7aeb-4152-bf7a-6f123ccddadf"
      },
      "outputs": [
        {
          "name": "stdout",
          "output_type": "stream",
          "text": [
            "1 번 학생은 합격입니다.\n",
            "5 번 학생은 합격입니다.\n"
          ]
        }
      ],
      "source": [
        "scores = [90, 85, 77, 65, 97]\n",
        "cheating_list = {2, 4}\n",
        "\n",
        "for i in range(5):\n",
        "  if i + 1 in cheating_list:\n",
        "    continue\n",
        "  if scores[i] >= 80:\n",
        "    print(i+1, \"번 학생은 합격입니다.\")"
      ]
    },
    {
      "cell_type": "code",
      "execution_count": 47,
      "metadata": {
        "colab": {
          "base_uri": "https://localhost:8080/"
        },
        "id": "g7djTnVF9jSH",
        "outputId": "f5a71bfb-46f4-4350-89cc-33164127ad03"
      },
      "outputs": [
        {
          "name": "stdout",
          "output_type": "stream",
          "text": [
            "2 X 1 = 2\n",
            "2 X 2 = 4\n",
            "2 X 3 = 6\n",
            "2 X 4 = 8\n",
            "2 X 5 = 10\n",
            "2 X 6 = 12\n",
            "2 X 7 = 14\n",
            "2 X 8 = 16\n",
            "2 X 9 = 18\n",
            "\n",
            "3 X 1 = 3\n",
            "3 X 2 = 6\n",
            "3 X 3 = 9\n",
            "3 X 4 = 12\n",
            "3 X 5 = 15\n",
            "3 X 6 = 18\n",
            "3 X 7 = 21\n",
            "3 X 8 = 24\n",
            "3 X 9 = 27\n",
            "\n",
            "4 X 1 = 4\n",
            "4 X 2 = 8\n",
            "4 X 3 = 12\n",
            "4 X 4 = 16\n",
            "4 X 5 = 20\n",
            "4 X 6 = 24\n",
            "4 X 7 = 28\n",
            "4 X 8 = 32\n",
            "4 X 9 = 36\n",
            "\n",
            "5 X 1 = 5\n",
            "5 X 2 = 10\n",
            "5 X 3 = 15\n",
            "5 X 4 = 20\n",
            "5 X 5 = 25\n",
            "5 X 6 = 30\n",
            "5 X 7 = 35\n",
            "5 X 8 = 40\n",
            "5 X 9 = 45\n",
            "\n",
            "6 X 1 = 6\n",
            "6 X 2 = 12\n",
            "6 X 3 = 18\n",
            "6 X 4 = 24\n",
            "6 X 5 = 30\n",
            "6 X 6 = 36\n",
            "6 X 7 = 42\n",
            "6 X 8 = 48\n",
            "6 X 9 = 54\n",
            "\n",
            "7 X 1 = 7\n",
            "7 X 2 = 14\n",
            "7 X 3 = 21\n",
            "7 X 4 = 28\n",
            "7 X 5 = 35\n",
            "7 X 6 = 42\n",
            "7 X 7 = 49\n",
            "7 X 8 = 56\n",
            "7 X 9 = 63\n",
            "\n",
            "8 X 1 = 8\n",
            "8 X 2 = 16\n",
            "8 X 3 = 24\n",
            "8 X 4 = 32\n",
            "8 X 5 = 40\n",
            "8 X 6 = 48\n",
            "8 X 7 = 56\n",
            "8 X 8 = 64\n",
            "8 X 9 = 72\n",
            "\n",
            "9 X 1 = 9\n",
            "9 X 2 = 18\n",
            "9 X 3 = 27\n",
            "9 X 4 = 36\n",
            "9 X 5 = 45\n",
            "9 X 6 = 54\n",
            "9 X 7 = 63\n",
            "9 X 8 = 72\n",
            "9 X 9 = 81\n",
            "\n"
          ]
        }
      ],
      "source": [
        "for i in range(2,10):\n",
        "  for j in range(1, 10):\n",
        "    print(i, \"X\", j, \"=\", i * j)\n",
        "  print()"
      ]
    },
    {
      "cell_type": "markdown",
      "metadata": {
        "id": "IaPc-LVl9w9Q"
      },
      "source": [
        "# 함수\n"
      ]
    },
    {
      "cell_type": "code",
      "execution_count": 49,
      "metadata": {
        "colab": {
          "base_uri": "https://localhost:8080/"
        },
        "id": "cKbnCAXh92Lq",
        "outputId": "22b7c69a-7b82-4e16-888b-981ffa26c303"
      },
      "outputs": [
        {
          "name": "stdout",
          "output_type": "stream",
          "text": [
            "10\n"
          ]
        }
      ],
      "source": [
        "def add(a, b):\n",
        "  return a + b\n",
        "\n",
        "print(add(3, 7))"
      ]
    },
    {
      "cell_type": "code",
      "execution_count": 51,
      "metadata": {
        "colab": {
          "base_uri": "https://localhost:8080/"
        },
        "id": "rWPL0jaj99qy",
        "outputId": "4717a8d9-da2e-4557-e216-bacea7d35d60"
      },
      "outputs": [
        {
          "name": "stdout",
          "output_type": "stream",
          "text": [
            "10\n"
          ]
        }
      ],
      "source": [
        "def add(a, b):\n",
        "  print(a + b)\n",
        "\n",
        "add(a = 3, b = 7)"
      ]
    },
    {
      "cell_type": "code",
      "execution_count": 52,
      "metadata": {
        "colab": {
          "base_uri": "https://localhost:8080/"
        },
        "id": "TYLbzu6_-FmM",
        "outputId": "31ccc515-5aa9-446e-d647-4515edcbc0bf"
      },
      "outputs": [
        {
          "name": "stdout",
          "output_type": "stream",
          "text": [
            "10\n"
          ]
        }
      ],
      "source": [
        "a = 0\n",
        "\n",
        "def func():\n",
        "  global a\n",
        "  a += 1\n",
        "\n",
        "for i in range(10):\n",
        "  func()\n",
        "\n",
        "print(a)"
      ]
    },
    {
      "cell_type": "code",
      "execution_count": 53,
      "metadata": {
        "colab": {
          "base_uri": "https://localhost:8080/"
        },
        "id": "pVKcs3D7-Uml",
        "outputId": "65c21fa7-4d78-422c-847e-41ce4f230baf"
      },
      "outputs": [
        {
          "name": "stdout",
          "output_type": "stream",
          "text": [
            "10\n",
            "10\n"
          ]
        }
      ],
      "source": [
        "def add(a, b):\n",
        "  return a + b\n",
        "\n",
        "print(add(3, 7))\n",
        "\n",
        "print((lambda a, b: a + b)(3, 7))"
      ]
    },
    {
      "cell_type": "markdown",
      "metadata": {
        "id": "DqoyAvKr-jym"
      },
      "source": [
        "# 입출력"
      ]
    },
    {
      "cell_type": "code",
      "execution_count": 54,
      "metadata": {
        "colab": {
          "base_uri": "https://localhost:8080/"
        },
        "id": "3NqiZkxx-n8h",
        "outputId": "facac9d9-6c6a-42ab-8d17-3b7ba1f37572"
      },
      "outputs": [
        {
          "name": "stdout",
          "output_type": "stream",
          "text": [
            "5\n",
            "65 90 78 34 99\n",
            "[99, 90, 78, 65, 34]\n"
          ]
        }
      ],
      "source": [
        "# 입력을 위한 전형적인 소스 코드\n",
        "n = int(input())\n",
        "# 각 데이터 공백으로 구분하여 입력\n",
        "data = list(map(int, input().split()))\n",
        "\n",
        "data.sort(reverse = True)\n",
        "print(data)"
      ]
    },
    {
      "cell_type": "code",
      "execution_count": 55,
      "metadata": {
        "colab": {
          "base_uri": "https://localhost:8080/"
        },
        "id": "EAxP-4Nl-7Y0",
        "outputId": "27f83066-df7e-424d-cc70-c507989a2583"
      },
      "outputs": [
        {
          "name": "stdout",
          "output_type": "stream",
          "text": [
            "4 5 6\n",
            "4 5 6\n"
          ]
        }
      ],
      "source": [
        "n, m ,k = map(int, input().split())\n",
        "\n",
        "print(n,m,k)"
      ]
    },
    {
      "cell_type": "code",
      "execution_count": 57,
      "metadata": {
        "colab": {
          "base_uri": "https://localhost:8080/"
        },
        "id": "35EVrQW2_PTO",
        "outputId": "be05597e-3245-4869-c732-745091324380"
      },
      "outputs": [
        {
          "name": "stdout",
          "output_type": "stream",
          "text": [
            "\n"
          ]
        }
      ],
      "source": [
        "# readline 사용 소스코드\n",
        "import sys\n",
        "\n",
        "data = sys.stdin.readline().rstrip()\n",
        "print(data)"
      ]
    },
    {
      "cell_type": "code",
      "execution_count": 58,
      "metadata": {
        "colab": {
          "base_uri": "https://localhost:8080/"
        },
        "id": "S71Yy75J_fhG",
        "outputId": "0982d19d-1163-4ad1-cf55-cc6f6af29397"
      },
      "outputs": [
        {
          "name": "stdout",
          "output_type": "stream",
          "text": [
            "1 2\n",
            "1\n",
            "2\n"
          ]
        }
      ],
      "source": [
        "# 출력 예시\n",
        "a = 1\n",
        "b = 2\n",
        "\n",
        "print(a, b)\n",
        "print(a)\n",
        "print(b)"
      ]
    },
    {
      "cell_type": "code",
      "execution_count": 60,
      "metadata": {
        "colab": {
          "base_uri": "https://localhost:8080/",
          "height": 209
        },
        "id": "vMQj1jRP_x2T",
        "outputId": "71b40a9d-60b2-4b65-fe80-b28f1e7d841d"
      },
      "outputs": [
        {
          "ename": "TypeError",
          "evalue": "ignored",
          "output_type": "error",
          "traceback": [
            "\u001b[0;31m---------------------------------------------------------------------------\u001b[0m",
            "\u001b[0;31mTypeError\u001b[0m                                 Traceback (most recent call last)",
            "\u001b[0;32m<ipython-input-60-880b30fc4378>\u001b[0m in \u001b[0;36m<module>\u001b[0;34m\u001b[0m\n\u001b[1;32m      1\u001b[0m \u001b[0;31m# typeError 조심\u001b[0m\u001b[0;34m\u001b[0m\u001b[0;34m\u001b[0m\u001b[0;34m\u001b[0m\u001b[0m\n\u001b[1;32m      2\u001b[0m \u001b[0manswer\u001b[0m \u001b[0;34m=\u001b[0m \u001b[0;36m7\u001b[0m\u001b[0;34m\u001b[0m\u001b[0;34m\u001b[0m\u001b[0m\n\u001b[0;32m----> 3\u001b[0;31m \u001b[0mprint\u001b[0m\u001b[0;34m(\u001b[0m\u001b[0;34m\"정답은 \"\u001b[0m \u001b[0;34m+\u001b[0m \u001b[0manswer\u001b[0m \u001b[0;34m+\u001b[0m \u001b[0;34m\"입니다.\"\u001b[0m\u001b[0;34m)\u001b[0m\u001b[0;34m\u001b[0m\u001b[0;34m\u001b[0m\u001b[0m\n\u001b[0m",
            "\u001b[0;31mTypeError\u001b[0m: can only concatenate str (not \"int\") to str"
          ]
        }
      ],
      "source": [
        "# typeError 조심\n",
        "answer = 7\n",
        "print(\"정답은 \" + answer + \"입니다.\")"
      ]
    },
    {
      "cell_type": "code",
      "execution_count": 61,
      "metadata": {
        "colab": {
          "base_uri": "https://localhost:8080/"
        },
        "id": "1Fthlodv_4-o",
        "outputId": "7abe4a71-dce4-4a55-f114-add4fb88627a"
      },
      "outputs": [
        {
          "name": "stdout",
          "output_type": "stream",
          "text": [
            "정답은 7입니다.\n"
          ]
        }
      ],
      "source": [
        "answer = 7\n",
        "print(\"정답은 \" + str(answer) + \"입니다.\")"
      ]
    },
    {
      "cell_type": "code",
      "execution_count": 62,
      "metadata": {
        "colab": {
          "base_uri": "https://localhost:8080/"
        },
        "id": "63o8rLi1__8V",
        "outputId": "eaac8972-9d61-43ea-e901-a73925b360b2"
      },
      "outputs": [
        {
          "name": "stdout",
          "output_type": "stream",
          "text": [
            "정답은  7 입니다.\n"
          ]
        }
      ],
      "source": [
        "answer = 7\n",
        "print(\"정답은 \" , answer , \"입니다.\")"
      ]
    },
    {
      "cell_type": "code",
      "execution_count": 63,
      "metadata": {
        "colab": {
          "base_uri": "https://localhost:8080/"
        },
        "id": "JrVyKWLgAG2r",
        "outputId": "19fdf269-5b96-4999-c291-3ddf7f14ced6"
      },
      "outputs": [
        {
          "name": "stdout",
          "output_type": "stream",
          "text": [
            "정답은 7 입니다.\n"
          ]
        }
      ],
      "source": [
        "# f-string\n",
        "answer = 7\n",
        "print(f\"정답은 {answer} 입니다.\")"
      ]
    },
    {
      "cell_type": "markdown",
      "metadata": {},
      "source": [
        "## 표준 입출력"
      ]
    },
    {
      "cell_type": "code",
      "execution_count": null,
      "metadata": {},
      "outputs": [],
      "source": [
        "import sys\n",
        "\n",
        "print('hello', file=sys.stdout)\n",
        "print('hello', file=sys.stderr)"
      ]
    },
    {
      "cell_type": "markdown",
      "metadata": {},
      "source": [
        "## 출력 포맷"
      ]
    },
    {
      "cell_type": "code",
      "execution_count": 2,
      "metadata": {},
      "outputs": [
        {
          "name": "stdout",
          "output_type": "stream",
          "text": [
            "       500\n",
            "+1,000,000\n"
          ]
        }
      ],
      "source": [
        "print(\"{0: >10}\".format(500))\n",
        "print(\"{0:+,}\".format(1000000))"
      ]
    },
    {
      "cell_type": "markdown",
      "metadata": {},
      "source": [
        "## 파일 입출력"
      ]
    },
    {
      "cell_type": "code",
      "execution_count": null,
      "metadata": {},
      "outputs": [],
      "source": [
        "# w = write\n",
        "score_file = open('score.txt', 'w', encoding='utf8')\n",
        "print('수학 0점')\n",
        "print('영어 100점')\n",
        "score_file.close()\n",
        "\n",
        "# a = append\n",
        "score_file = open('score.txt', 'a', encoding='utf8')\n",
        "print('사회 0점')\n",
        "print('과학 100점')\n",
        "score_file.close()\n",
        "\n",
        "# r = read\n",
        "score_file = open('score.txt', 'r', encoding='utf8')\n",
        "print(score_file.read())\n",
        "score_file.close()\n",
        "\n",
        "score_file = open('score.txt', 'r', encoding='utf8')\n",
        "print(score_file.readline()) # 한 줄씩 읽기\n",
        "print(score_file.readline())\n",
        "print(score_file.readline())\n",
        "print(score_file.readline())\n",
        "score_file.close()"
      ]
    },
    {
      "cell_type": "markdown",
      "metadata": {},
      "source": [
        "## 클래스"
      ]
    },
    {
      "cell_type": "code",
      "execution_count": 3,
      "metadata": {},
      "outputs": [],
      "source": [
        "class Unit:\n",
        "  ## 생성자\n",
        "  def __init__(self, name, hp):\n",
        "    self.name = name # 멤버 변수\n",
        "    self.hp = hp\n",
        "    print('{0} 유닛이 생성되었습니다.'.format(self.name))\n",
        "    print('체력 {0}, 데미지 {1}'.format(self.hp, self.damage))\n",
        "    \n",
        "marine1 = Unit('마린', 40, 5) # 인스턴스\n",
        "marine2 = Unit('마린', 40, 5)\n",
        "tank = Unit('탱크', 150, 35)\n",
        "\n",
        "wraith1 = Unit('레이스', 80, 5)\n",
        "print('유닛 이름 : {0}, 유닛 공격력 : {1}'.format(wraith1.name, wraith1.damage)) # 클래스 외부에서 멤버 변수 활용\n",
        "\n",
        "wraith2 = Unit('빼앗은 레이스', 80, 5)\n",
        "wraith2.clocking = True # 클래스 외부에서 새로운 멤버 변수 추가\n",
        "\n",
        "# Unit 클래스 상속\n",
        "class AttackUnit(Unit): \n",
        "  ## 생성자\n",
        "  def __init__(self, name, hp, damage):\n",
        "    Unit.__init__(self, name, hp) # 상속 받은 멤버 변수\n",
        "    self.damage = damage\n",
        "    print('{0} 유닛이 생성되었습니다.'.format(self.name))\n",
        "    print('체력 {0}, 데미지 {1}'.format(self.hp, self.damage))\n",
        "    \n",
        "  def attack(self, location): # 메소드\n",
        "    print(\"{0} : {1} 방향으로 적군을 공격합니다. 공격력[{2}]\".format(self.name, location, self.damage))\n",
        "    \n",
        "  def damaged(self, damage):\n",
        "    print(\"{0} : {1} 데미지를 입었습니다.\".format(self.name, damage))\n",
        "    self.hp -= damage\n",
        "    print(\"{0} : 현재 체력은 {1} 입니다.\".format(self.name, self.hp))\n",
        "    if self.hp <= 0:\n",
        "      print(\"{0} : 파괴되었습니다.\".format(self.name))\n",
        "      \n",
        "firebat1 = AttackUnit('파이어뱃', 50, 16)\n",
        "firebat1.attack('5시') # 메소드 활용\n",
        "firebat1.damaged('25')\n",
        "\n",
        "#### 메소드 오버라이딩으로 이미 상속받는 클래스의 함수를 재정의해서 사용할 수 있다.\n",
        "#### Super를 사용해서 클래스 상속도 가능 | 다만 다중 상속 시에는 첫 번째 클래스 인자만 상속 받는다."
      ]
    }
  ],
  "metadata": {
    "colab": {
      "authorship_tag": "ABX9TyNzfcX2yOdyYt+xps1HJY4J",
      "collapsed_sections": [
        "Q1Jp2gl5uDLB",
        "vtJdZjxgok8O",
        "Qaot9V6Mt0N4",
        "x0GSpTJJykyi",
        "qr0C1BvZzTL0",
        "LmISw-luzgoB",
        "icLGWYJv3Naq",
        "WaJLrvDz7TBy",
        "KPj-YZy27xLb",
        "OMZerWO28GYC",
        "IaPc-LVl9w9Q",
        "DqoyAvKr-jym",
        "gRhdOI2HARqP"
      ],
      "include_colab_link": true,
      "provenance": []
    },
    "kernelspec": {
      "display_name": "Python 3",
      "name": "python3"
    },
    "language_info": {
      "codemirror_mode": {
        "name": "ipython",
        "version": 3
      },
      "file_extension": ".py",
      "mimetype": "text/x-python",
      "name": "python",
      "nbconvert_exporter": "python",
      "pygments_lexer": "ipython3",
      "version": "3.9.13"
    }
  },
  "nbformat": 4,
  "nbformat_minor": 0
}
