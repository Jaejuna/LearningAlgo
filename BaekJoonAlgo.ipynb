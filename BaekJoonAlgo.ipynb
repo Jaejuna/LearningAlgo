{
  "nbformat": 4,
  "nbformat_minor": 0,
  "metadata": {
    "colab": {
      "name": "BaekJoonAlgo",
      "provenance": [],
      "authorship_tag": "ABX9TyPXK+0bU94zvJqu1VaiVlzh",
      "include_colab_link": true
    },
    "kernelspec": {
      "name": "python3",
      "display_name": "Python 3"
    },
    "language_info": {
      "name": "python"
    }
  },
  "cells": [
    {
      "cell_type": "markdown",
      "metadata": {
        "id": "view-in-github",
        "colab_type": "text"
      },
      "source": [
        "<a href=\"https://colab.research.google.com/github/Jaejuna/LearningAlgo/blob/main/BaekJoonAlgo.ipynb\" target=\"_parent\"><img src=\"https://colab.research.google.com/assets/colab-badge.svg\" alt=\"Open In Colab\"/></a>"
      ]
    },
    {
      "cell_type": "code",
      "metadata": {
        "colab": {
          "base_uri": "https://localhost:8080/"
        },
        "id": "uZVV-1HyA_km",
        "outputId": "ad8a5227-457d-461b-fbbb-d6f917a07af4"
      },
      "source": [
        "#백준 1110\n",
        "num = int(input())\n",
        "check = num\n",
        "new_num = 0\n",
        "temp = 0\n",
        "count = 0\n",
        "while True:\n",
        "    temp = num//10 + num%10\n",
        "    new_num = (num%10)*10 + temp%10\n",
        "    count += 1\n",
        "    num = new_num\n",
        "    if new_num == check:\n",
        "        break\n",
        "print(count)"
      ],
      "execution_count": null,
      "outputs": [
        {
          "output_type": "stream",
          "name": "stdout",
          "text": [
            "55\n",
            "3\n"
          ]
        }
      ]
    },
    {
      "cell_type": "code",
      "metadata": {
        "id": "WBpv-iB36pg3"
      },
      "source": [
        "#백준 11654\n",
        "a = input()\n",
        "#문자열을 아스키 코드로 출력해주는 함수\n",
        "print(ord(a))"
      ],
      "execution_count": null,
      "outputs": []
    },
    {
      "cell_type": "code",
      "metadata": {
        "id": "88SvRD8H7aNc"
      },
      "source": [
        "#백준 11720\n",
        "n = int(input())\n",
        "\n",
        "print(sum(map(int,input())))"
      ],
      "execution_count": null,
      "outputs": []
    },
    {
      "cell_type": "code",
      "metadata": {
        "colab": {
          "base_uri": "https://localhost:8080/"
        },
        "id": "-a50wdVy8Qua",
        "outputId": "9fd5577a-61c8-49c4-bdcb-9c40964f3eed"
      },
      "source": [
        "#백준 2941\n",
        "list = [\"c=\", \"c-\", \"dz=\", \"d-\", \"lj\", \"nj\", \"s=\", \"z=\"]\n",
        "n = input() \n",
        "\n",
        "for i in list:\n",
        "  #문자열을 변환해주는 함수\n",
        "  n = n.replace(i, \"*\")\n",
        "print(len(n))"
      ],
      "execution_count": null,
      "outputs": [
        {
          "output_type": "stream",
          "name": "stdout",
          "text": [
            "ljes=njak\n",
            "6\n"
          ]
        }
      ]
    },
    {
      "cell_type": "code",
      "metadata": {
        "colab": {
          "base_uri": "https://localhost:8080/"
        },
        "id": "FOtgnU19AM68",
        "outputId": "8959ad0f-eb39-4128-e2f6-75271229fcda"
      },
      "source": [
        "#백준 1000\n",
        "n,m = map(int, input().split())\n",
        "\n",
        "print(n+m)"
      ],
      "execution_count": null,
      "outputs": [
        {
          "output_type": "stream",
          "name": "stdout",
          "text": [
            "1 2\n",
            "3\n"
          ]
        }
      ]
    },
    {
      "cell_type": "code",
      "source": [
        "#백준 1330\n",
        "A, B  = map(int, input().split())\n",
        "\n",
        "if A > B:\n",
        "  print(\">\")\n",
        "elif A < B:\n",
        "  print(\"<\")\n",
        "elif A == B:\n",
        "  print(\"==\")"
      ],
      "metadata": {
        "colab": {
          "base_uri": "https://localhost:8080/"
        },
        "id": "pDoczjIAzYGE",
        "outputId": "3f077441-8509-4821-a46f-e115a2321fe1"
      },
      "execution_count": null,
      "outputs": [
        {
          "output_type": "stream",
          "name": "stdout",
          "text": [
            " 5 3\n",
            ">\n"
          ]
        }
      ]
    },
    {
      "cell_type": "code",
      "source": [
        "#백준 2739\n",
        "N = int(input())\n",
        "\n",
        "for i in range(1, 10):\n",
        "  print(N, '*', i, \"=\", N * i)"
      ],
      "metadata": {
        "colab": {
          "base_uri": "https://localhost:8080/"
        },
        "id": "JGd-tXe_0FLB",
        "outputId": "b6a5e650-cb38-4074-d75a-bb740ab7b0c8"
      },
      "execution_count": null,
      "outputs": [
        {
          "output_type": "stream",
          "name": "stdout",
          "text": [
            "2\n",
            "2 * 1 = 2\n",
            "2 * 2 = 4\n",
            "2 * 3 = 6\n",
            "2 * 4 = 8\n",
            "2 * 5 = 10\n",
            "2 * 6 = 12\n",
            "2 * 7 = 14\n",
            "2 * 8 = 16\n",
            "2 * 9 = 18\n"
          ]
        }
      ]
    },
    {
      "cell_type": "code",
      "source": [
        "#백준 10950\n",
        "T = int(input())\n",
        "\n",
        "for i in range(T):\n",
        "  A, B = map(int, input().split())\n",
        "  print(A+B)"
      ],
      "metadata": {
        "colab": {
          "base_uri": "https://localhost:8080/"
        },
        "id": "UW1eGIgG28Kd",
        "outputId": "35be9d5f-676f-4e6a-e9a0-571b9aa962b6"
      },
      "execution_count": null,
      "outputs": [
        {
          "output_type": "stream",
          "name": "stdout",
          "text": [
            "3\n",
            "1 1\n",
            "2\n",
            "2 3\n",
            "5\n",
            "3 4\n",
            "7\n"
          ]
        }
      ]
    },
    {
      "cell_type": "code",
      "source": [
        "#백준 10951\n",
        "\n",
        "while True:\n",
        "  try:\n",
        "    a, b = map(int, input().split()) \n",
        "    print(a+b)\n",
        "  except:\n",
        "    break"
      ],
      "metadata": {
        "colab": {
          "base_uri": "https://localhost:8080/"
        },
        "id": "J3DX2yg434TG",
        "outputId": "f0054c95-868b-487d-b1eb-a3823c737cd2"
      },
      "execution_count": null,
      "outputs": [
        {
          "name": "stdout",
          "output_type": "stream",
          "text": [
            "1 1\n",
            "2\n",
            "\n"
          ]
        }
      ]
    },
    {
      "cell_type": "code",
      "source": [
        "#백준 1712\n",
        "a, b, c = map(int, input().split())\n",
        "\n",
        "if b >= c:\n",
        "  print(-1)\n",
        "else:\n",
        "  print(int(a/(c-b)+1))"
      ],
      "metadata": {
        "colab": {
          "base_uri": "https://localhost:8080/"
        },
        "id": "YBjuTqfd5RGN",
        "outputId": "914498d9-81e3-4daf-d28d-ce93b427a163"
      },
      "execution_count": null,
      "outputs": [
        {
          "output_type": "stream",
          "name": "stdout",
          "text": [
            "1000 70 170\n",
            "11\n"
          ]
        }
      ]
    },
    {
      "cell_type": "code",
      "source": [
        "#백준 10818\n",
        "n = int(input())\n",
        "a = list(map(int, input().split()))\n",
        "a.sort()\n",
        "\n",
        "print(a[0], a[n-1])"
      ],
      "metadata": {
        "colab": {
          "base_uri": "https://localhost:8080/"
        },
        "id": "mwjOsnHjgWHj",
        "outputId": "6b7be227-ae90-46f4-f2fc-ef9f738a0da0"
      },
      "execution_count": null,
      "outputs": [
        {
          "output_type": "stream",
          "name": "stdout",
          "text": [
            "5\n",
            "7 12 19 35 6\n",
            "6 35\n"
          ]
        }
      ]
    },
    {
      "cell_type": "code",
      "source": [
        "#백준 2562\n",
        "n = []\n",
        "\n",
        "for i in range(9):\n",
        "  a = int(input())\n",
        "  n.append(a)\n",
        "\n",
        "print(max(n))\n",
        "print(n.index(max(n))+1)"
      ],
      "metadata": {
        "colab": {
          "base_uri": "https://localhost:8080/"
        },
        "id": "xbcNfniGi7cZ",
        "outputId": "d1738081-a493-4c22-bcfc-169f7199fd8d"
      },
      "execution_count": null,
      "outputs": [
        {
          "output_type": "stream",
          "name": "stdout",
          "text": [
            "3\n",
            "29\n",
            "38\n",
            "12\n",
            "57\n",
            "74\n",
            "40\n",
            "85\n",
            "61\n",
            "85\n",
            "8\n"
          ]
        }
      ]
    },
    {
      "cell_type": "code",
      "source": [
        "#백준 2577\n",
        "a = int(input())\n",
        "b = int(input())\n",
        "c = int(input())\n",
        "\n",
        "answer = list(str(a * b * c))\n",
        "for i in range(10):\n",
        "  print(answer.count(str(i)))"
      ],
      "metadata": {
        "colab": {
          "base_uri": "https://localhost:8080/"
        },
        "id": "MEkLkX9XoFFz",
        "outputId": "229bb44e-bcb8-4f15-d515-7e4ae6902288"
      },
      "execution_count": null,
      "outputs": [
        {
          "output_type": "stream",
          "name": "stdout",
          "text": [
            "14 35 64\n",
            "1\n",
            "1\n",
            "0\n",
            "2\n",
            "0\n",
            "0\n",
            "1\n",
            "0\n",
            "0\n",
            "0\n"
          ]
        }
      ]
    },
    {
      "cell_type": "code",
      "source": [
        "#백준 15596\n",
        "def solve(a):\n",
        "  print(sum(a))\n",
        "\n",
        "solve(list(map(int, input().split())))"
      ],
      "metadata": {
        "colab": {
          "base_uri": "https://localhost:8080/"
        },
        "id": "YuRFVgkhpHwS",
        "outputId": "12a6fa10-a719-46c6-82b2-badd32b535fc"
      },
      "execution_count": null,
      "outputs": [
        {
          "output_type": "stream",
          "name": "stdout",
          "text": [
            "1 2 3 4 5\n",
            "15\n"
          ]
        }
      ]
    },
    {
      "cell_type": "code",
      "source": [
        "#백준 1152\n",
        "print(len(input().split()))"
      ],
      "metadata": {
        "colab": {
          "base_uri": "https://localhost:8080/"
        },
        "id": "tuW6RSxiswv5",
        "outputId": "7d1f97bf-bdb6-4e66-8eec-ab78e0111e9f"
      },
      "execution_count": null,
      "outputs": [
        {
          "output_type": "stream",
          "name": "stdout",
          "text": [
            "The Curious Case of Benjamin Button\n",
            "6\n"
          ]
        }
      ]
    },
    {
      "cell_type": "code",
      "source": [
        "#백준 10250\n",
        "t = int(input())\n",
        "\n",
        "for i in range(t):\n",
        "  h, w, n = map(int, input().split())\n",
        "  num = n//h + 1\n",
        "  floor = n % h\n",
        "  if n % h == 0:  \n",
        "    num = n//h\n",
        "    floor = h\n",
        "  print(floor*100+num)"
      ],
      "metadata": {
        "colab": {
          "base_uri": "https://localhost:8080/"
        },
        "id": "GffSZhasEe3b",
        "outputId": "64c57d9b-9cec-41d6-ba6a-e767333c17d2"
      },
      "execution_count": null,
      "outputs": [
        {
          "output_type": "stream",
          "name": "stdout",
          "text": [
            "2\n",
            "6 12 10\n",
            "402\n",
            "30 50 72\n",
            "1203\n"
          ]
        }
      ]
    },
    {
      "cell_type": "code",
      "source": [
        "#백준 1001\n",
        "a,b = map(int, input().split())\n",
        "\n",
        "result =  a - b\n",
        "print(result)"
      ],
      "metadata": {
        "id": "8GG9NxhPHDeZ"
      },
      "execution_count": null,
      "outputs": []
    },
    {
      "cell_type": "code",
      "source": [
        "#백준 10998\n",
        "a,b = map(int, input().split())\n",
        "\n",
        "result =  a * b\n",
        "print(result)"
      ],
      "metadata": {
        "id": "4nt2hTFvJALP"
      },
      "execution_count": null,
      "outputs": []
    },
    {
      "cell_type": "code",
      "source": [
        "#백준 10869\n",
        "a,b = map(int, input().split())\n",
        "\n",
        "result =  a + b\n",
        "print(result)\n",
        "result =  a - b\n",
        "print(result)\n",
        "result =  a * b\n",
        "print(result)\n",
        "result =  a / b\n",
        "print(int(result))\n",
        "result =  a % b\n",
        "print(result)"
      ],
      "metadata": {
        "colab": {
          "base_uri": "https://localhost:8080/"
        },
        "id": "s2Lw3HWnJO7h",
        "outputId": "0115e187-04fb-4a17-a19d-4f0de1c33886"
      },
      "execution_count": null,
      "outputs": [
        {
          "output_type": "stream",
          "name": "stdout",
          "text": [
            "7 3\n",
            "10\n",
            "4\n",
            "21\n",
            "2.3333333333333335\n",
            "1\n"
          ]
        }
      ]
    },
    {
      "cell_type": "code",
      "source": [
        "#백준 10430\n",
        "a,b,c = map(int, input().split())\n",
        "\n",
        "result =  (a + b)%c\n",
        "print(result)\n",
        "result =  ((a%c) + (b%c))%c\n",
        "print(result)\n",
        "result =  (a * b)%c\n",
        "print(result)\n",
        "result =  ((a%c) * (b%c))%c\n",
        "print(result)"
      ],
      "metadata": {
        "colab": {
          "base_uri": "https://localhost:8080/"
        },
        "id": "EBDctRBtJ3qz",
        "outputId": "1e8ec873-4d3d-400e-b6a7-2be4f547f127"
      },
      "execution_count": null,
      "outputs": [
        {
          "output_type": "stream",
          "name": "stdout",
          "text": [
            "5 8 4\n",
            "1\n",
            "1\n",
            "0\n",
            "0\n"
          ]
        }
      ]
    },
    {
      "cell_type": "code",
      "source": [
        "#백준 2588\n",
        "a = int(input())\n",
        "b = input()\n",
        "\n",
        "AxB2 = a * int(b[2])\n",
        "AxB1 = a * int(b[1])\n",
        "AxB0 = a * int(b[0])\n",
        "AxB = a*int(b)\n",
        "\n",
        "print(AxB2, AxB1, AxB0, AxB, sep='\\n')\n",
        "# sep = print 함수에서 출력할 값이 여러 개일 때 각 값의 사이사이에 \n",
        "# 삽입할 문자를 지정할 문자를 지정할 수 있는 파라미터"
      ],
      "metadata": {
        "colab": {
          "base_uri": "https://localhost:8080/"
        },
        "id": "iU9PhyyeKpmc",
        "outputId": "5acf2051-732c-4d0a-a652-5af869466c31"
      },
      "execution_count": null,
      "outputs": [
        {
          "output_type": "stream",
          "name": "stdout",
          "text": [
            "472\n",
            "385\n",
            "2360\n",
            "3776\n",
            "1416\n",
            "181720\n"
          ]
        }
      ]
    },
    {
      "cell_type": "code",
      "source": [
        "#백준 2753\n",
        "a = int(input())\n",
        "\n",
        "if (a % 4 == 0 and a % 100 != 0) or a % 400 == 0:\n",
        "  print(1)\n",
        "else:\n",
        "  print(0)\n",
        " "
      ],
      "metadata": {
        "colab": {
          "base_uri": "https://localhost:8080/"
        },
        "id": "goipB8G0MOIT",
        "outputId": "bb5a6e07-d964-4fca-9f32-224de7f53e7e"
      },
      "execution_count": null,
      "outputs": [
        {
          "output_type": "stream",
          "name": "stdout",
          "text": [
            "1999\n",
            "0\n"
          ]
        }
      ]
    },
    {
      "cell_type": "code",
      "source": [
        "#백준 14681\n",
        "x = int(input())\n",
        "y = int(input())\n",
        "\n",
        "if x > 0 and y > 0:\n",
        "  print(1)\n",
        "elif x < 0 and y > 0:\n",
        "  print(2)\n",
        "elif x < 0 and y < 0:\n",
        "  print(3)\n",
        "elif x > 0 and y < 0:\n",
        "  print(4)"
      ],
      "metadata": {
        "colab": {
          "base_uri": "https://localhost:8080/"
        },
        "id": "IrB1yg5RO1KN",
        "outputId": "e8b02917-0e1b-4310-84a4-da18abd4083a"
      },
      "execution_count": null,
      "outputs": [
        {
          "output_type": "stream",
          "name": "stdout",
          "text": [
            "9\n",
            "-13\n",
            "4\n"
          ]
        }
      ]
    },
    {
      "cell_type": "code",
      "source": [
        "#백준 8393\n",
        "x = int(input())\n",
        "result = 0\n",
        "\n",
        "for i in range(x):\n",
        "  result += 1 + i\n",
        "\n",
        "print(result)"
      ],
      "metadata": {
        "colab": {
          "base_uri": "https://localhost:8080/"
        },
        "id": "-S3fmD-rP6r-",
        "outputId": "55eccae9-8fed-4d2a-815d-bcb09308eb68"
      },
      "execution_count": null,
      "outputs": [
        {
          "output_type": "stream",
          "name": "stdout",
          "text": [
            "4\n",
            "10\n"
          ]
        }
      ]
    },
    {
      "cell_type": "code",
      "source": [
        "#백준 2741\n",
        "x = int(input())\n",
        "result = 0\n",
        "\n",
        "for i in range(1, x+1):\n",
        "  print(i)"
      ],
      "metadata": {
        "colab": {
          "base_uri": "https://localhost:8080/"
        },
        "id": "c0e6uDBXQaLT",
        "outputId": "d989cea7-2e1f-4d7a-f66a-ac993c82bb33"
      },
      "execution_count": null,
      "outputs": [
        {
          "output_type": "stream",
          "name": "stdout",
          "text": [
            "5\n",
            "1\n",
            "2\n",
            "3\n",
            "4\n",
            "5\n"
          ]
        }
      ]
    },
    {
      "cell_type": "code",
      "source": [
        "#백준 2742\n",
        "x = int(input())\n",
        "result = 0\n",
        "\n",
        "for i in range(0, x):\n",
        "  print(x-i)"
      ],
      "metadata": {
        "colab": {
          "base_uri": "https://localhost:8080/"
        },
        "id": "r9K4IJdda6FC",
        "outputId": "3433ad51-7a02-4d20-b928-19b919e5f353"
      },
      "execution_count": null,
      "outputs": [
        {
          "output_type": "stream",
          "name": "stdout",
          "text": [
            "5\n",
            "5\n",
            "4\n",
            "3\n",
            "2\n",
            "1\n"
          ]
        }
      ]
    },
    {
      "cell_type": "code",
      "source": [
        "#백준 11021\n",
        "x = int(input())\n",
        "\n",
        "for i in range(x):\n",
        "  a, b = map(int, input().split())\n",
        "  print(\"Case #\"+str(i)+':',a+b)\n",
        "\n",
        "#for i in range(x):\n",
        "#  a,b = map(int, input().split())\n",
        "#  ans = a + b\n",
        "#  print(\"Case #%s: %s\"%(i+1, ans ))"
      ],
      "metadata": {
        "colab": {
          "base_uri": "https://localhost:8080/"
        },
        "id": "-phszTNfcV_T",
        "outputId": "05182654-2f5c-463c-aff4-b44a398bf3e0"
      },
      "execution_count": null,
      "outputs": [
        {
          "output_type": "stream",
          "name": "stdout",
          "text": [
            "1\n",
            "1 1\n",
            "Case #0: 2\n"
          ]
        }
      ]
    },
    {
      "cell_type": "code",
      "source": [
        "#백준 11022\n",
        "x = int(input())\n",
        "\n",
        "for i in range(x):\n",
        "  a,b = map(int, input().split())\n",
        "  ans = a + b\n",
        "  print(\"Case #%s: %s + %s = %s\"%(i+1, a, b, ans ))"
      ],
      "metadata": {
        "colab": {
          "base_uri": "https://localhost:8080/"
        },
        "id": "nErKiWdLe577",
        "outputId": "78f9ea3f-cdc1-4166-aa89-1e5950118069"
      },
      "execution_count": null,
      "outputs": [
        {
          "output_type": "stream",
          "name": "stdout",
          "text": [
            "1\n",
            "1 1\n",
            "Case #1: 1 + 1 = 2\n"
          ]
        }
      ]
    },
    {
      "cell_type": "code",
      "source": [
        "#백준 2438\n",
        "x = int(input())\n",
        "star = \"*\"\n",
        "\n",
        "for i in range(x):\n",
        "  print(star)\n",
        "  star = star + \"*\""
      ],
      "metadata": {
        "colab": {
          "base_uri": "https://localhost:8080/"
        },
        "id": "zjIdViVGfVA5",
        "outputId": "de67c468-3424-4781-999a-85145c79d4d1"
      },
      "execution_count": null,
      "outputs": [
        {
          "output_type": "stream",
          "name": "stdout",
          "text": [
            "5\n",
            "*\n",
            "**\n",
            "***\n",
            "****\n",
            "*****\n"
          ]
        }
      ]
    },
    {
      "cell_type": "code",
      "source": [
        "#백준 2439\n",
        "x = int(input())\n",
        "\n",
        "for i in range(1, x+1):\n",
        "  print(\" \"*(x-i) + \"*\"*i)"
      ],
      "metadata": {
        "colab": {
          "base_uri": "https://localhost:8080/"
        },
        "id": "asxJculqfxwR",
        "outputId": "f2c83642-eafa-4f48-9108-415b41c43ac0"
      },
      "execution_count": null,
      "outputs": [
        {
          "output_type": "stream",
          "name": "stdout",
          "text": [
            "5\n",
            "    *\n",
            "   **\n",
            "  ***\n",
            " ****\n",
            "*****\n"
          ]
        }
      ]
    },
    {
      "cell_type": "code",
      "source": [
        "#백준 10952\n",
        "while True:\n",
        "  x, y = map(int, input().split())\n",
        "  if x == 0 and y == 0:\n",
        "    break\n",
        "  print(x+y)"
      ],
      "metadata": {
        "id": "HNGk2LtBgSL1",
        "colab": {
          "base_uri": "https://localhost:8080/"
        },
        "outputId": "69eccd09-85a5-4598-a5ea-5d1776af9633"
      },
      "execution_count": null,
      "outputs": [
        {
          "name": "stdout",
          "output_type": "stream",
          "text": [
            "1 1\n",
            "2\n",
            "10 5\n",
            "15\n",
            "0 0\n"
          ]
        }
      ]
    },
    {
      "cell_type": "code",
      "source": [
        "#백준 3052\n",
        "arr = []\n",
        "for i in range(10):\n",
        "    n = int(input())\n",
        "    arr.append(n % 42)\n",
        "arr = set(arr)    #set은 unique한 값을 갖게 만듦\n",
        "print(len(arr))"
      ],
      "metadata": {
        "colab": {
          "base_uri": "https://localhost:8080/"
        },
        "id": "WT4jZHbaqP7G",
        "outputId": "4451cbd5-7778-40b6-e14f-75679e08feaf"
      },
      "execution_count": null,
      "outputs": [
        {
          "output_type": "stream",
          "name": "stdout",
          "text": [
            "1\n",
            "42\n",
            "65\n",
            "345\n",
            "13\n",
            "10\n",
            "84\n",
            "65\n",
            "4\n",
            "35\n",
            "8\n"
          ]
        }
      ]
    },
    {
      "cell_type": "code",
      "source": [
        "#백준 1546\n",
        "x = int(input())\n",
        "score = list(map(int, input().split())) #입력값 바로 리스트로 만들기\n",
        "max = max(score)\n",
        "\n",
        "new_list = []\n",
        "for s in score :\n",
        "    new_list.append(s/max *100)  # 새로운 점수 생성\n",
        "test_avg = sum(new_list)/x\n",
        "print(test_avg)"
      ],
      "metadata": {
        "id": "qcHa6F7PsWaZ"
      },
      "execution_count": null,
      "outputs": []
    },
    {
      "cell_type": "code",
      "source": [
        "#백준 8958\n",
        "N = int(input())\n",
        "\n",
        "for i in range(N):\n",
        "    a = input()\n",
        "    score = 0\n",
        "    sumScore = 0\n",
        "    for j in a:\n",
        "        if j == 'O':\n",
        "            score += 1\n",
        "        else:\n",
        "            score = 0\n",
        "        sumScore += score\n",
        "    print(sumScore)"
      ],
      "metadata": {
        "id": "_HOy8oMIu33Z",
        "colab": {
          "base_uri": "https://localhost:8080/"
        },
        "outputId": "03f2cdc9-a322-4afc-a640-0805d01d0d12"
      },
      "execution_count": null,
      "outputs": [
        {
          "output_type": "stream",
          "name": "stdout",
          "text": [
            "5\n",
            "OOXXOXXOOO\n",
            "10\n",
            "OOXXOOXXOO\n",
            "9\n",
            "OXOXOXOXOXOXOX\n",
            "7\n",
            "OOOOOOOOOO\n",
            "55\n",
            "OOOOXOOOOXOOOOX\n",
            "30\n"
          ]
        }
      ]
    },
    {
      "cell_type": "code",
      "source": [
        "#백준 4344\n",
        "n = int(input())\n",
        "\n",
        "for _ in range(n):\n",
        "    nums = list(map(int, input().split()))\n",
        "    avg = sum(nums[1:])/nums[0]\n",
        "    cnt = 0\n",
        "    for score in nums[1:]:\n",
        "        if score > avg:\n",
        "            cnt += 1 \n",
        "    rate = cnt/nums[0] *100\n",
        "    print(f'{rate:.3f}%')  #f-string 표기법"
      ],
      "metadata": {
        "colab": {
          "base_uri": "https://localhost:8080/"
        },
        "id": "uV1_-DHTud0i",
        "outputId": "e3f60cc6-8562-4bb7-b085-baa5b5f01ed5"
      },
      "execution_count": null,
      "outputs": [
        {
          "output_type": "stream",
          "name": "stdout",
          "text": [
            "2\n",
            "5 50 50 70 80 100\n",
            "40.000%\n",
            "7 100 95 90 80 70 60 50\n",
            "57.143%\n"
          ]
        }
      ]
    },
    {
      "cell_type": "code",
      "source": [
        "#백준 2675 (문자열)\n",
        "n = int(input())\n",
        "cnt = 0\n",
        "\n",
        "for i in range(n):\n",
        "  m, c = input().split()\n",
        "  for j in c:\n",
        "    print(j*int(m), end=\"\")\n",
        "  print()"
      ],
      "metadata": {
        "colab": {
          "base_uri": "https://localhost:8080/"
        },
        "id": "ub4kYyMiOxYI",
        "outputId": "2b41bac1-525b-4d82-c6fe-fdb787389636"
      },
      "execution_count": 13,
      "outputs": [
        {
          "output_type": "stream",
          "name": "stdout",
          "text": [
            "2\n",
            "3 ABC\n",
            "AAABBBCCC\n",
            "3 ABCDE\n",
            "AAABBBCCCDDDEEE\n"
          ]
        }
      ]
    },
    {
      "cell_type": "code",
      "source": [
        "#백준 1157 (문자열)\n",
        "words = input().upper()\n",
        "unique_word = list(set(words))   \n",
        "#set 자료형은 중복을 허용하지 않음\n",
        "#print(unique_word)\n",
        "\n",
        "cnt_list = []   #빈 리스트 선언\n",
        "for i in unique_word:\n",
        "  cnt = words.count(i)     \n",
        "  cnt_list.append(cnt)    #알파벳 갯수 세서 리스트에 갯수 하나씩 넣기\n",
        "\n",
        "if cnt_list.count(max(cnt_list)) > 1 :  #가장 큰수 count 해서 1과 비교\n",
        "  print('?')\n",
        "else :\n",
        "  max_index = cnt_list.index(max(cnt_list))   #max index 찾기\n",
        "  print(unique_word[max_index])"
      ],
      "metadata": {
        "colab": {
          "base_uri": "https://localhost:8080/"
        },
        "id": "qxod3vvnVmtk",
        "outputId": "2b8607a6-610c-4fb4-ecb1-2b22d02a1822"
      },
      "execution_count": 17,
      "outputs": [
        {
          "output_type": "stream",
          "name": "stdout",
          "text": [
            "Mississipi\n",
            "?\n"
          ]
        }
      ]
    }
  ]
}