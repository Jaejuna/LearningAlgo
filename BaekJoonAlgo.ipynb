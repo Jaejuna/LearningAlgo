{
  "nbformat": 4,
  "nbformat_minor": 0,
  "metadata": {
    "colab": {
      "name": "BaekJoonAlgo",
      "provenance": [],
      "authorship_tag": "ABX9TyO5LVUf95DPoZdGCb34SK5+",
      "include_colab_link": true
    },
    "kernelspec": {
      "name": "python3",
      "display_name": "Python 3"
    },
    "language_info": {
      "name": "python"
    }
  },
  "cells": [
    {
      "cell_type": "markdown",
      "metadata": {
        "id": "view-in-github",
        "colab_type": "text"
      },
      "source": [
        "<a href=\"https://colab.research.google.com/github/Jaejuna/LearningAlgo/blob/main/BaekJoonAlgo.ipynb\" target=\"_parent\"><img src=\"https://colab.research.google.com/assets/colab-badge.svg\" alt=\"Open In Colab\"/></a>"
      ]
    },
    {
      "cell_type": "code",
      "metadata": {
        "colab": {
          "base_uri": "https://localhost:8080/"
        },
        "id": "uZVV-1HyA_km",
        "outputId": "ad8a5227-457d-461b-fbbb-d6f917a07af4"
      },
      "source": [
        "#백준 1110\n",
        "num = int(input())\n",
        "check = num\n",
        "new_num = 0\n",
        "temp = 0\n",
        "count = 0\n",
        "while True:\n",
        "    temp = num//10 + num%10\n",
        "    new_num = (num%10)*10 + temp%10\n",
        "    count += 1\n",
        "    num = new_num\n",
        "    if new_num == check:\n",
        "        break\n",
        "print(count)"
      ],
      "execution_count": null,
      "outputs": [
        {
          "output_type": "stream",
          "name": "stdout",
          "text": [
            "55\n",
            "3\n"
          ]
        }
      ]
    },
    {
      "cell_type": "code",
      "metadata": {
        "id": "WBpv-iB36pg3"
      },
      "source": [
        "#백준 11654\n",
        "a = input()\n",
        "#문자열을 아스키 코드로 출력해주는 함수\n",
        "print(ord(a))"
      ],
      "execution_count": null,
      "outputs": []
    },
    {
      "cell_type": "code",
      "metadata": {
        "id": "88SvRD8H7aNc"
      },
      "source": [
        "#백준 11720\n",
        "n = int(input())\n",
        "\n",
        "print(sum(map(int,input())))"
      ],
      "execution_count": null,
      "outputs": []
    },
    {
      "cell_type": "code",
      "metadata": {
        "colab": {
          "base_uri": "https://localhost:8080/"
        },
        "id": "-a50wdVy8Qua",
        "outputId": "9fd5577a-61c8-49c4-bdcb-9c40964f3eed"
      },
      "source": [
        "#백준 2941\n",
        "list = [\"c=\", \"c-\", \"dz=\", \"d-\", \"lj\", \"nj\", \"s=\", \"z=\"]\n",
        "n = input() \n",
        "\n",
        "for i in list:\n",
        "  #문자열을 변환해주는 함수\n",
        "  n = n.replace(i, \"*\")\n",
        "print(len(n))"
      ],
      "execution_count": null,
      "outputs": [
        {
          "output_type": "stream",
          "name": "stdout",
          "text": [
            "ljes=njak\n",
            "6\n"
          ]
        }
      ]
    },
    {
      "cell_type": "code",
      "metadata": {
        "colab": {
          "base_uri": "https://localhost:8080/"
        },
        "id": "FOtgnU19AM68",
        "outputId": "8959ad0f-eb39-4128-e2f6-75271229fcda"
      },
      "source": [
        "#백준 1000\n",
        "n,m = map(int, input().split())\n",
        "\n",
        "print(n+m)"
      ],
      "execution_count": null,
      "outputs": [
        {
          "output_type": "stream",
          "name": "stdout",
          "text": [
            "1 2\n",
            "3\n"
          ]
        }
      ]
    },
    {
      "cell_type": "code",
      "source": [
        "#백준 1330\n",
        "A, B  = map(int, input().split())\n",
        "\n",
        "if A > B:\n",
        "  print(\">\")\n",
        "elif A < B:\n",
        "  print(\"<\")\n",
        "elif A == B:\n",
        "  print(\"==\")"
      ],
      "metadata": {
        "colab": {
          "base_uri": "https://localhost:8080/"
        },
        "id": "pDoczjIAzYGE",
        "outputId": "3f077441-8509-4821-a46f-e115a2321fe1"
      },
      "execution_count": null,
      "outputs": [
        {
          "output_type": "stream",
          "name": "stdout",
          "text": [
            " 5 3\n",
            ">\n"
          ]
        }
      ]
    },
    {
      "cell_type": "code",
      "source": [
        "#백준 2739\n",
        "N = int(input())\n",
        "\n",
        "for i in range(1, 10):\n",
        "  print(N, '*', i, \"=\", N * i)"
      ],
      "metadata": {
        "colab": {
          "base_uri": "https://localhost:8080/"
        },
        "id": "JGd-tXe_0FLB",
        "outputId": "b6a5e650-cb38-4074-d75a-bb740ab7b0c8"
      },
      "execution_count": null,
      "outputs": [
        {
          "output_type": "stream",
          "name": "stdout",
          "text": [
            "2\n",
            "2 * 1 = 2\n",
            "2 * 2 = 4\n",
            "2 * 3 = 6\n",
            "2 * 4 = 8\n",
            "2 * 5 = 10\n",
            "2 * 6 = 12\n",
            "2 * 7 = 14\n",
            "2 * 8 = 16\n",
            "2 * 9 = 18\n"
          ]
        }
      ]
    },
    {
      "cell_type": "code",
      "source": [
        "#백준 10950\n",
        "T = int(input())\n",
        "\n",
        "for i in range(T):\n",
        "  A, B = map(int, input().split())\n",
        "  print(A+B)"
      ],
      "metadata": {
        "colab": {
          "base_uri": "https://localhost:8080/"
        },
        "id": "UW1eGIgG28Kd",
        "outputId": "35be9d5f-676f-4e6a-e9a0-571b9aa962b6"
      },
      "execution_count": null,
      "outputs": [
        {
          "output_type": "stream",
          "name": "stdout",
          "text": [
            "3\n",
            "1 1\n",
            "2\n",
            "2 3\n",
            "5\n",
            "3 4\n",
            "7\n"
          ]
        }
      ]
    },
    {
      "cell_type": "code",
      "source": [
        "#백준 10951\n",
        "\n",
        "while True:\n",
        "  try:\n",
        "    a, b = map(int, input().split()) \n",
        "    print(a+b)\n",
        "  except:\n",
        "    break"
      ],
      "metadata": {
        "colab": {
          "base_uri": "https://localhost:8080/"
        },
        "id": "J3DX2yg434TG",
        "outputId": "f0054c95-868b-487d-b1eb-a3823c737cd2"
      },
      "execution_count": null,
      "outputs": [
        {
          "name": "stdout",
          "output_type": "stream",
          "text": [
            "1 1\n",
            "2\n",
            "\n"
          ]
        }
      ]
    },
    {
      "cell_type": "code",
      "source": [
        "#백준 1712\n",
        "a, b, c = map(int, input().split())\n",
        "\n",
        "if b >= c:\n",
        "  print(-1)\n",
        "else:\n",
        "  print(int(a/(c-b)+1))"
      ],
      "metadata": {
        "colab": {
          "base_uri": "https://localhost:8080/"
        },
        "id": "YBjuTqfd5RGN",
        "outputId": "914498d9-81e3-4daf-d28d-ce93b427a163"
      },
      "execution_count": null,
      "outputs": [
        {
          "output_type": "stream",
          "name": "stdout",
          "text": [
            "1000 70 170\n",
            "11\n"
          ]
        }
      ]
    },
    {
      "cell_type": "code",
      "source": [
        "#백준 10818\n",
        "n = int(input())\n",
        "a = list(map(int, input().split()))\n",
        "a.sort()\n",
        "\n",
        "print(a[0], a[n-1])"
      ],
      "metadata": {
        "colab": {
          "base_uri": "https://localhost:8080/"
        },
        "id": "mwjOsnHjgWHj",
        "outputId": "6b7be227-ae90-46f4-f2fc-ef9f738a0da0"
      },
      "execution_count": 9,
      "outputs": [
        {
          "output_type": "stream",
          "name": "stdout",
          "text": [
            "5\n",
            "7 12 19 35 6\n",
            "6 35\n"
          ]
        }
      ]
    },
    {
      "cell_type": "code",
      "source": [
        "#백준 2562\n",
        "n = []\n",
        "\n",
        "for i in range(9):\n",
        "  a = int(input())\n",
        "  n.append(a)\n",
        "\n",
        "print(max(n))\n",
        "print(n.index(max(n))+1)"
      ],
      "metadata": {
        "colab": {
          "base_uri": "https://localhost:8080/"
        },
        "id": "xbcNfniGi7cZ",
        "outputId": "d1738081-a493-4c22-bcfc-169f7199fd8d"
      },
      "execution_count": 13,
      "outputs": [
        {
          "output_type": "stream",
          "name": "stdout",
          "text": [
            "3\n",
            "29\n",
            "38\n",
            "12\n",
            "57\n",
            "74\n",
            "40\n",
            "85\n",
            "61\n",
            "85\n",
            "8\n"
          ]
        }
      ]
    },
    {
      "cell_type": "code",
      "source": [
        "#백준 2577\n",
        "a = int(input())\n",
        "b = int(input())\n",
        "c = int(input())\n",
        "\n",
        "answer = list(str(a * b * c))\n",
        "for i in range(10):\n",
        "  print(answer.count(str(i)))"
      ],
      "metadata": {
        "colab": {
          "base_uri": "https://localhost:8080/"
        },
        "id": "MEkLkX9XoFFz",
        "outputId": "229bb44e-bcb8-4f15-d515-7e4ae6902288"
      },
      "execution_count": 15,
      "outputs": [
        {
          "output_type": "stream",
          "name": "stdout",
          "text": [
            "14 35 64\n",
            "1\n",
            "1\n",
            "0\n",
            "2\n",
            "0\n",
            "0\n",
            "1\n",
            "0\n",
            "0\n",
            "0\n"
          ]
        }
      ]
    },
    {
      "cell_type": "code",
      "source": [
        "#백준 15596\n",
        "def solve(a):\n",
        "  print(sum(a))\n",
        "\n",
        "solve(list(map(int, input().split())))"
      ],
      "metadata": {
        "colab": {
          "base_uri": "https://localhost:8080/"
        },
        "id": "YuRFVgkhpHwS",
        "outputId": "12a6fa10-a719-46c6-82b2-badd32b535fc"
      },
      "execution_count": 17,
      "outputs": [
        {
          "output_type": "stream",
          "name": "stdout",
          "text": [
            "1 2 3 4 5\n",
            "15\n"
          ]
        }
      ]
    },
    {
      "cell_type": "code",
      "source": [
        "#백준 1152\n",
        "print(len(input().split()))"
      ],
      "metadata": {
        "colab": {
          "base_uri": "https://localhost:8080/"
        },
        "id": "tuW6RSxiswv5",
        "outputId": "7d1f97bf-bdb6-4e66-8eec-ab78e0111e9f"
      },
      "execution_count": 33,
      "outputs": [
        {
          "output_type": "stream",
          "name": "stdout",
          "text": [
            "The Curious Case of Benjamin Button\n",
            "6\n"
          ]
        }
      ]
    }
  ]
}