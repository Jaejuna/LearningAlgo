{
  "nbformat": 4,
  "nbformat_minor": 0,
  "metadata": {
    "colab": {
      "provenance": [],
      "authorship_tag": "ABX9TyPXS7eU1tpzBwQVQUnjBFxl",
      "include_colab_link": true
    },
    "kernelspec": {
      "name": "python3",
      "display_name": "Python 3"
    },
    "language_info": {
      "name": "python"
    }
  },
  "cells": [
    {
      "cell_type": "markdown",
      "metadata": {
        "id": "view-in-github",
        "colab_type": "text"
      },
      "source": [
        "<a href=\"https://colab.research.google.com/github/Jaejuna/LearningAlgo/blob/main/greedy.ipynb\" target=\"_parent\"><img src=\"https://colab.research.google.com/assets/colab-badge.svg\" alt=\"Open In Colab\"/></a>"
      ]
    },
    {
      "cell_type": "code",
      "execution_count": null,
      "metadata": {
        "id": "EmI73cMDo_N1"
      },
      "outputs": [],
      "source": [
        "# 거스름돈"
      ]
    },
    {
      "cell_type": "code",
      "source": [
        "# 큰 수의 법칙"
      ],
      "metadata": {
        "id": "ZxEw4sNHKtLh"
      },
      "execution_count": null,
      "outputs": []
    },
    {
      "cell_type": "code",
      "source": [
        "# 숫자 카드 게임"
      ],
      "metadata": {
        "id": "Z5PUWXlUKwOe"
      },
      "execution_count": null,
      "outputs": []
    },
    {
      "cell_type": "code",
      "source": [
        "# 1이 될 때 까지"
      ],
      "metadata": {
        "id": "umEFPADGKz-8"
      },
      "execution_count": null,
      "outputs": []
    },
    {
      "cell_type": "code",
      "source": [
        "# 모험가 길드"
      ],
      "metadata": {
        "id": "X6qn9Ue6K3Hj"
      },
      "execution_count": null,
      "outputs": []
    },
    {
      "cell_type": "code",
      "source": [
        "# 곱하기 혹은 더하기"
      ],
      "metadata": {
        "id": "bJCp-hJIK5BI"
      },
      "execution_count": null,
      "outputs": []
    },
    {
      "cell_type": "code",
      "source": [
        "# 문자열 뒤집기"
      ],
      "metadata": {
        "id": "VvykxipAK6KA"
      },
      "execution_count": null,
      "outputs": []
    },
    {
      "cell_type": "code",
      "source": [
        "# 만들 수 없는 금액"
      ],
      "metadata": {
        "id": "e8E97coYK7P6"
      },
      "execution_count": null,
      "outputs": []
    },
    {
      "cell_type": "code",
      "source": [
        "# 볼링공 고르기 "
      ],
      "metadata": {
        "id": "RK3q7IoFK-pT"
      },
      "execution_count": null,
      "outputs": []
    },
    {
      "cell_type": "code",
      "source": [
        "# 무지의 먹방 라이브"
      ],
      "metadata": {
        "id": "PNZIZ3L0LARV"
      },
      "execution_count": null,
      "outputs": []
    },
    {
      "cell_type": "code",
      "source": [
        "# 10162 전자레인지\n",
        "t = int(input())\n",
        "A = 300\n",
        "B = 60\n",
        "C = 10\n",
        "a_result = b_result = c_result = 0\n",
        "\n",
        "while t > 0:\n",
        "  if t >= 300:\n",
        "    a_result += t // A\n",
        "    t -= A * a_result\n",
        "  elif 60 <= t < 300:\n",
        "    b_result += t // B\n",
        "    t -= B * b_result\n",
        "  elif t < 60:\n",
        "    c_result += t // C\n",
        "    t -= C * c_result\n",
        "    if t > 0:\n",
        "      break\n",
        "  \n",
        "if t > 0:\n",
        "  print('-1')\n",
        "else:\n",
        "  print(f'{a_result} {b_result} {c_result}')"
      ],
      "metadata": {
        "colab": {
          "base_uri": "https://localhost:8080/"
        },
        "id": "LDxCdaBqCSIG",
        "outputId": "93cc82b8-8039-4699-bfeb-2c5dc2975e06"
      },
      "execution_count": null,
      "outputs": [
        {
          "output_type": "stream",
          "name": "stdout",
          "text": [
            "189\n",
            "-1\n"
          ]
        }
      ]
    },
    {
      "cell_type": "code",
      "source": [
        "# 14720 우유 축제\n",
        "n = int(input())\n",
        "mart = list(map(int, input().split()))\n",
        "max = 0\n",
        "\n",
        "for i in range(n):\n",
        "    if(mart[i] == max%3):\n",
        "        max+=1\n",
        "\n",
        "print(max)"
      ],
      "metadata": {
        "colab": {
          "base_uri": "https://localhost:8080/"
        },
        "id": "lWVkesdJAASa",
        "outputId": "3ff78aeb-7d04-4ac1-b268-009c46287a3d"
      },
      "execution_count": null,
      "outputs": [
        {
          "output_type": "stream",
          "name": "stdout",
          "text": [
            "7\n",
            "0 1 2 0 1 2 0\n",
            "7\n"
          ]
        }
      ]
    },
    {
      "cell_type": "code",
      "source": [
        "# 14487 욱제는 효도쟁이야!!\n",
        "n = int(input())\n",
        "towns = list(map(int, input().split()))\n",
        "cost = 0\n",
        "\n",
        "for i in towns:\n",
        "  cost += i\n",
        "\n",
        "cost -= max(towns)\n",
        "print(cost)"
      ],
      "metadata": {
        "colab": {
          "base_uri": "https://localhost:8080/"
        },
        "id": "PDal_NfGOjhU",
        "outputId": "be0da5b3-ac54-4521-a17b-24b96dd452ae"
      },
      "execution_count": null,
      "outputs": [
        {
          "output_type": "stream",
          "name": "stdout",
          "text": [
            "5\n",
            "10 4 6 2 8\n",
            "20\n"
          ]
        }
      ]
    },
    {
      "cell_type": "code",
      "source": [
        "# 1439 뒤집기\n",
        "n = input()\n",
        "cnt = 0\n",
        "\n",
        "for i in range(len(n)-1):\n",
        "    if n[i] != n[i+1]:\n",
        "      cnt += 1\n",
        "\n",
        "print((cnt+1)//2)"
      ],
      "metadata": {
        "colab": {
          "base_uri": "https://localhost:8080/"
        },
        "id": "UQRDTrJS5VU1",
        "outputId": "ed06422d-8930-484d-d7b5-e02b97f315bd"
      },
      "execution_count": 12,
      "outputs": [
        {
          "output_type": "stream",
          "name": "stdout",
          "text": [
            "11011001\n",
            "0\n"
          ]
        }
      ]
    },
    {
      "cell_type": "code",
      "source": [
        "# 1026 보물\n",
        "n = int(input())\n",
        "a = list(map(int, input().split()))\n",
        "b = list(map(int, input().split()))\n",
        "result = 0\n",
        "\n",
        "a_d = sorted(a, reverse=True)\n",
        "b_a = sorted(b)\n",
        "\n",
        "for i in range(n):\n",
        "  result += a_d[i] * b_a[i]\n",
        "\n",
        "print(result)"
      ],
      "metadata": {
        "colab": {
          "base_uri": "https://localhost:8080/"
        },
        "id": "lsKRH_u79kRN",
        "outputId": "4c598fbd-1f43-4b8c-a3c6-a4a937285a24"
      },
      "execution_count": 21,
      "outputs": [
        {
          "output_type": "stream",
          "name": "stdout",
          "text": [
            "3\n",
            "1 1 3\n",
            "10 30 20\n",
            "80\n"
          ]
        }
      ]
    }
  ]
}