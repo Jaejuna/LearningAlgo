{
 "cells": [
  {
   "cell_type": "code",
   "execution_count": null,
   "metadata": {},
   "outputs": [],
   "source": [
    "#2530 인공지능 시계\n",
    "H, M, S = map(int, input().split())\n",
    "cook = int(input())\n",
    "\n",
    "S += cook % 60\n",
    "cook = cook // 60\n",
    "if S >= 60:\n",
    "    S -= 60\n",
    "    M += 1\n",
    "\n",
    "M += cook % 60\n",
    "cook = cook // 60\n",
    "if M >= 60:\n",
    "    M -= 60\n",
    "    H += 1\n",
    "\n",
    "H += cook % 24\n",
    "if H >= 24:\n",
    "    H -= 24\n",
    "\n",
    "print(H,M,S)"
   ]
  },
  {
   "cell_type": "code",
   "execution_count": null,
   "metadata": {},
   "outputs": [],
   "source": [
    "#2914 저작권\n",
    "a,b = map(int, input().split())\n",
    "print(a*(b-1)+1)"
   ]
  },
  {
   "cell_type": "code",
   "execution_count": null,
   "metadata": {},
   "outputs": [],
   "source": [
    "#2935 소음\n",
    "a = int(input())\n",
    "op = input()\n",
    "b = int(input())\n",
    "\n",
    "if op == '+':\n",
    "    print(a + b)\n",
    "elif op == '*':\n",
    "    print(a * b)"
   ]
  },
  {
   "cell_type": "code",
   "execution_count": null,
   "metadata": {},
   "outputs": [],
   "source": [
    "#5355 화성수학\n",
    "n = int(input())\n",
    "\n",
    "for _ in range(n):\n",
    "    math = list(map(str, input().split()))\n",
    "    answer = 0\n",
    "    for j in range(len(math)):\n",
    "        if j == 0:\n",
    "            answer += float(math[j])\n",
    "        else:\n",
    "            if math[j] == \"#\":\n",
    "                answer -= 7\n",
    "            elif math[j] == \"%\":\n",
    "                answer += 5\n",
    "            elif math[j] == \"@\":\n",
    "                answer *= 3\n",
    "                \n",
    "    print(\"%0.2f\" % answer)\n"
   ]
  },
  {
   "cell_type": "code",
   "execution_count": 21,
   "metadata": {},
   "outputs": [
    {
     "name": "stdout",
     "output_type": "stream",
     "text": [
      "2\n"
     ]
    }
   ],
   "source": [
    "#10817 세 수\n",
    "a = list(map(int, input().split()))\n",
    "\n",
    "a.sort()\n",
    "\n",
    "print(a[1])\n"
   ]
  },
  {
   "cell_type": "code",
   "execution_count": 25,
   "metadata": {},
   "outputs": [
    {
     "name": "stdout",
     "output_type": "stream",
     "text": [
      "2\n",
      "2\n",
      "2\n",
      "3\n",
      "3\n"
     ]
    }
   ],
   "source": [
    "#11653 소인수분해\n",
    "n = int(input())\n",
    "i = 2\n",
    "\n",
    "while n >= 2:\n",
    "    if n % i == 0:\n",
    "        n /= i\n",
    "        print(i)\n",
    "    else:\n",
    "        i += 1"
   ]
  },
  {
   "cell_type": "code",
   "execution_count": 44,
   "metadata": {},
   "outputs": [
    {
     "name": "stdout",
     "output_type": "stream",
     "text": [
      "20\n"
     ]
    }
   ],
   "source": [
    "#1789 수들의 합\n",
    "s = int(input())\n",
    "n = 1  \n",
    "while n * (n + 1) / 2 <= s:\n",
    "    n += 1\n",
    "    \n",
    "print(n - 1)"
   ]
  },
  {
   "cell_type": "code",
   "execution_count": 56,
   "metadata": {},
   "outputs": [
    {
     "name": "stdout",
     "output_type": "stream",
     "text": [
      "40\n"
     ]
    }
   ],
   "source": [
    "#10039 평균 점수\n",
    "avg = 0\n",
    "\n",
    "for i in range(5):\n",
    "    score = int(input())\n",
    "\n",
    "    if score < 40 :\n",
    "        score = 40\n",
    "\n",
    "    avg += score\n",
    "\n",
    "print(avg // 5)\n"
   ]
  },
  {
   "cell_type": "code",
   "execution_count": 63,
   "metadata": {},
   "outputs": [
    {
     "name": "stdout",
     "output_type": "stream",
     "text": [
      "4 6\n",
      "2 4\n",
      "0 2\n",
      "30\n"
     ]
    }
   ],
   "source": [
    "#1934 최소공배수\n",
    "num = int(input())\n",
    "for i in range(num):\n",
    "    a,b = map(int,input().split())\n",
    "    A,B = a,b\n",
    "    while a!=0:\n",
    "        b = b%a\n",
    "        a,b = b,a   \n",
    "    gcd = b\n",
    "    lcm = A * B //b\n",
    "    print(lcm)"
   ]
  },
  {
   "cell_type": "code",
   "execution_count": null,
   "metadata": {},
   "outputs": [],
   "source": [
    "#4101 크냐?\n",
    "while True:\n",
    "    a, b = map(int, input().split())\n",
    "    if a == 0 and b == 0:\n",
    "        break\n",
    "    if a > b:\n",
    "        print(\"Yes\")\n",
    "    else:\n",
    "        print(\"No\")"
   ]
  },
  {
   "cell_type": "code",
   "execution_count": 66,
   "metadata": {},
   "outputs": [
    {
     "name": "stdout",
     "output_type": "stream",
     "text": [
      "0\n"
     ]
    }
   ],
   "source": [
    "#10156 과자\n",
    "a, b, c = map(int, input().split())\n",
    "\n",
    "c -= b * a\n",
    "if c < 0:\n",
    "    print(abs(c))\n",
    "else:\n",
    "    print(0)"
   ]
  }
 ],
 "metadata": {
  "kernelspec": {
   "display_name": "Python 3.7.4 64-bit",
   "language": "python",
   "name": "python3"
  },
  "language_info": {
   "codemirror_mode": {
    "name": "ipython",
    "version": 3
   },
   "file_extension": ".py",
   "mimetype": "text/x-python",
   "name": "python",
   "nbconvert_exporter": "python",
   "pygments_lexer": "ipython3",
   "version": "3.7.4"
  },
  "orig_nbformat": 4,
  "vscode": {
   "interpreter": {
    "hash": "949777d72b0d2535278d3dc13498b2535136f6dfe0678499012e853ee9abcab1"
   }
  }
 },
 "nbformat": 4,
 "nbformat_minor": 2
}
