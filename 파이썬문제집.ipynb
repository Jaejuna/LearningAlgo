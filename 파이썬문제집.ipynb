{
 "cells": [
  {
   "cell_type": "code",
   "execution_count": null,
   "metadata": {},
   "outputs": [],
   "source": [
    "#2530 인공지능 시계\n",
    "H, M, S = map(int, input().split())\n",
    "cook = int(input())\n",
    "\n",
    "S += cook % 60\n",
    "cook = cook // 60\n",
    "if S >= 60:\n",
    "    S -= 60\n",
    "    M += 1\n",
    "\n",
    "M += cook % 60\n",
    "cook = cook // 60\n",
    "if M >= 60:\n",
    "    M -= 60\n",
    "    H += 1\n",
    "\n",
    "H += cook % 24\n",
    "if H >= 24:\n",
    "    H -= 24\n",
    "\n",
    "print(H,M,S)"
   ]
  },
  {
   "cell_type": "code",
   "execution_count": null,
   "metadata": {},
   "outputs": [],
   "source": [
    "#2914 저작권\n",
    "a,b = map(int, input().split())\n",
    "print(a*(b-1)+1)"
   ]
  },
  {
   "cell_type": "code",
   "execution_count": null,
   "metadata": {},
   "outputs": [],
   "source": [
    "#2935 소음\n",
    "a = int(input())\n",
    "op = input()\n",
    "b = int(input())\n",
    "\n",
    "if op == '+':\n",
    "    print(a + b)\n",
    "elif op == '*':\n",
    "    print(a * b)"
   ]
  },
  {
   "cell_type": "code",
   "execution_count": null,
   "metadata": {},
   "outputs": [],
   "source": [
    "#5355 화성수학\n",
    "n = int(input())\n",
    "\n",
    "for _ in range(n):\n",
    "    math = list(map(str, input().split()))\n",
    "    answer = 0\n",
    "    for j in range(len(math)):\n",
    "        if j == 0:\n",
    "            answer += float(math[j])\n",
    "        else:\n",
    "            if math[j] == \"#\":\n",
    "                answer -= 7\n",
    "            elif math[j] == \"%\":\n",
    "                answer += 5\n",
    "            elif math[j] == \"@\":\n",
    "                answer *= 3\n",
    "                \n",
    "    print(\"%0.2f\" % answer)\n"
   ]
  },
  {
   "cell_type": "code",
   "execution_count": null,
   "metadata": {},
   "outputs": [],
   "source": [
    "#1920 수 찾기\n",
    "n = int(input())\n",
    "no = list(map(int, input().split()))\n",
    "m = int(input())\n",
    "nu = list(map(int, input().split()))\n",
    "\n"
   ]
  }
 ],
 "metadata": {
  "kernelspec": {
   "display_name": "Python 3.7.4 64-bit",
   "language": "python",
   "name": "python3"
  },
  "language_info": {
   "codemirror_mode": {
    "name": "ipython",
    "version": 3
   },
   "file_extension": ".py",
   "mimetype": "text/x-python",
   "name": "python",
   "nbconvert_exporter": "python",
   "pygments_lexer": "ipython3",
   "version": "3.7.4"
  },
  "orig_nbformat": 4,
  "vscode": {
   "interpreter": {
    "hash": "949777d72b0d2535278d3dc13498b2535136f6dfe0678499012e853ee9abcab1"
   }
  }
 },
 "nbformat": 4,
 "nbformat_minor": 2
}
