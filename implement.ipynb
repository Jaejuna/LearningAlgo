{
  "cells": [
    {
      "cell_type": "markdown",
      "metadata": {
        "colab_type": "text",
        "id": "view-in-github"
      },
      "source": [
        "<a href=\"https://colab.research.google.com/github/Jaejuna/LearningAlgo/blob/main/%EA%B5%AC%ED%98%84.ipynb\" target=\"_parent\"><img src=\"https://colab.research.google.com/assets/colab-badge.svg\" alt=\"Open In Colab\"/></a>"
      ]
    },
    {
      "cell_type": "code",
      "execution_count": null,
      "metadata": {
        "colab": {
          "base_uri": "https://localhost:8080/"
        },
        "id": "sL8CthUkoX-x",
        "outputId": "69171e45-54bb-41c4-9705-d8080272d0c4"
      },
      "outputs": [
        {
          "name": "stdout",
          "output_type": "stream",
          "text": [
            "5\n",
            "D D D D D\n",
            "5 1\n"
          ]
        }
      ],
      "source": [
        "# 상하좌우\n",
        "## 입력 받기\n",
        "n = int(input())\n",
        "x, y = 1, 1\n",
        "plans = input().split()\n",
        "\n",
        "## LRUD 이동 방향\n",
        "dx = [0,0,-1,1]\n",
        "dy = [-1,1,0,0]\n",
        "move_types = ['L', 'R', 'U', 'D']\n",
        "\n",
        "## 이동 계획을 하나씩 확인\n",
        "for plan in plans:\n",
        "    ## 이동 후 좌표 구하기\n",
        "    for i in range(len(move_types)): #move_types 만큼 for문 돌리기\n",
        "        if plan == move_types[i]:\n",
        "            nx = x + dx[i]\n",
        "            ny = y + dy[i]\n",
        "    ## 공간을 벗어나는 경우 \n",
        "    if nx < 1 or ny < 1 or nx > n or ny > n :\n",
        "        continue\n",
        "    ## 이동 수행\n",
        "    x, y = nx, ny\n",
        "print(x, y)"
      ]
    },
    {
      "cell_type": "code",
      "execution_count": null,
      "metadata": {
        "colab": {
          "base_uri": "https://localhost:8080/"
        },
        "id": "C8hgvlx5J_yx",
        "outputId": "97be0054-4798-40ef-bdf0-51a8090995b8"
      },
      "outputs": [
        {
          "name": "stdout",
          "output_type": "stream",
          "text": [
            "5\n",
            "11475\n"
          ]
        }
      ],
      "source": [
        "# 시각\n",
        "h = int(input())\n",
        "\n",
        "count = 0\n",
        "for i in range(h+1):\n",
        "    for j in range(60):\n",
        "        for k in range(60):\n",
        "            if '3' in str(i) + str(j) + str(k) :\n",
        "                count += 1\n",
        "\n",
        "print(count)"
      ]
    },
    {
      "cell_type": "code",
      "execution_count": null,
      "metadata": {
        "colab": {
          "base_uri": "https://localhost:8080/"
        },
        "id": "M1lsS15tKR8F",
        "outputId": "b09f2c86-5110-402c-bd4a-097a7311fda0"
      },
      "outputs": [
        {
          "name": "stdout",
          "output_type": "stream",
          "text": [
            "123402\n",
            "LUCKY\n"
          ]
        }
      ],
      "source": [
        "# 럭키 스트레이트\n",
        "n = input()\n",
        "\n",
        "half = len(n) // 2\n",
        "left, right = 0, 0\n",
        "\n",
        "for i in range(half):\n",
        "  left += int(n[i])\n",
        "for i in range(half, len(n)):\n",
        "  right += int(n[i5]])\n",
        "\n",
        "if left == right:\n",
        "  print('LUCKY')\n",
        "else:\n",
        "  print('READY')"
      ]
    },
    {
      "cell_type": "code",
      "execution_count": null,
      "metadata": {
        "colab": {
          "base_uri": "https://localhost:8080/"
        },
        "id": "FKqaF78aKS8X",
        "outputId": "a5b1473f-eebb-4a10-d54b-2cd6b3d9f8df"
      },
      "outputs": [
        {
          "name": "stdout",
          "output_type": "stream",
          "text": [
            "KSGFH2465\n",
            "FGHKS17\n"
          ]
        }
      ],
      "source": [
        "# 문자열 재정렬\n",
        "s = input()\n",
        "number = 0 \n",
        "result = []\n",
        "\n",
        "for i in s:\n",
        "    if i.isalpha(): \n",
        "        result.append(i)\n",
        "    elif i.isdigit(): \n",
        "        number += int(i)\n",
        "result.sort()\n",
        "\n",
        "if number != 0: \n",
        "    result.append(str(number))\n",
        "print(''.join(result)) "
      ]
    },
    {
      "cell_type": "code",
      "execution_count": null,
      "metadata": {
        "id": "cRaVL02VKU6R"
      },
      "outputs": [],
      "source": [
        "# 문자열 압축\n",
        "def solution(s):\n",
        "\n",
        "    # 주어진 문자열의 길이로 최소 압축 길이 초기화\n",
        "    min_len = len(s)\n",
        "\n",
        "    # 탐색 단위 수를 1부터 문자열 중간 길이까지 늘려가며 확인\n",
        "    for unit in range(1, (len(s)//2)+1):\n",
        "\n",
        "        # 결과 문자열\n",
        "        result = \"\"    \n",
        "\n",
        "        # 첫 탐색 단위\n",
        "        previous = s[0:unit]\n",
        "\n",
        "        # 동일한 탐색 단위의 개수\n",
        "        count = 1\n",
        "\n",
        "        # 탐색 인덱스를 탐색 단위만큼 증가시키며, 이전 탐색 단위와 비교\n",
        "        for idx in range(unit, len(s), unit):\n",
        "\n",
        "            # 현재 탐색 단위를 슬라이싱\n",
        "            now = s[idx:idx+unit]\n",
        "\n",
        "            # 현재 탐색 단위가 이전 탐색 단위와 같다면\n",
        "            if (now == previous):\n",
        "                count += 1\n",
        "            # 현재 탐색 단위가 이전 탐색 단위와 다르다면\n",
        "            else:\n",
        "                if (count >= 2):\n",
        "                    result += str(count) + previous\n",
        "                else:\n",
        "                    result += previous\n",
        "                previous = now\n",
        "                count = 1\n",
        "\n",
        "        # 남아있는 문자열에 대해 처리\n",
        "        if (count >= 2):\n",
        "            result += str(count) + previous\n",
        "        else:\n",
        "            result += previous    \n",
        "\n",
        "        # 탐색 단위별로 압축 문자열의 길이를 비교해, 최소 압축 문자열의 길이를 저장\n",
        "        min_len = min(min_len, len(result))\n",
        "\n",
        "    return min_len"
      ]
    },
    {
      "cell_type": "code",
      "execution_count": null,
      "metadata": {
        "id": "GDfKyjpfKXA7"
      },
      "outputs": [],
      "source": [
        "# 자물시와 열쇠\n",
        "def create_graph(n, lock):\n",
        "  graph = [[0] * (n*3) for _ in range(n * 3)]\n",
        "  for i in range(n):\n",
        "    for j in range(n):\n",
        "      graph[i + n][j + n] = lock[i][j]\n",
        "      return graph\n",
        "\n",
        "\n",
        "def unlock(n, graph):\n",
        "  for i in range(n, n * 2):\n",
        "    for j in range(n, n * 2):\n",
        "      if graph[i][j] != 1:\n",
        "        return False\n",
        "      return True\n",
        "\n",
        "\n",
        "def rotate(m, key):\n",
        "  nkey = [[0] * m for _ in range(m)]\n",
        "  for i in range(m):\n",
        "    for j in range(m):\n",
        "      nkey[j][-i + m - 1] = key[i][j]\n",
        "      return nkey\n",
        "\n",
        "\n",
        "def solution(key, lock):\n",
        "  n, m = len(lock), len(key)\n",
        "  graph = create_graph(n, lock)\n",
        "\n",
        "  for _ in range(4):  # 90, 180, 270, 360\n",
        "    key = rotate(m, key)\n",
        "    for x in range(n * 2):\n",
        "      for y in range(n * 2):\n",
        "        \n",
        "        for i in range(m):\n",
        "          for j in range(m):\n",
        "            graph[x + i][y + j] += key[i][j]\n",
        "            \n",
        "            if unlock(n, graph):\n",
        "              return True\n",
        "            \n",
        "            for i in range(m):\n",
        "              for j in range(m):\n",
        "                graph[x + i][y + j] -= key[i][j]\n",
        "\n",
        "    return False"
      ]
    },
    {
      "cell_type": "code",
      "execution_count": null,
      "metadata": {
        "id": "qx1OdmMdKZXW"
      },
      "outputs": [],
      "source": [
        "# 뱀\n",
        "n = int(input())\n",
        "k = int(input())\n",
        "graph = [[0] * (n+1) for _ in range(n+1)] # 맵 정보\n",
        "\n",
        "# 맵 정보 (사과가 있는 곳은 1로 표시)\n",
        "for _ in range(k):\n",
        "    a, b = map(int, input().split())\n",
        "    graph[a][b] = 1\n",
        "\n",
        "info = [] # 방향 회전 정보\n",
        "\n",
        "# 방향 회전 정보 입력\n",
        "l = int(input())\n",
        "for _ in range(l):\n",
        "    x, c = map(str, input().split())\n",
        "    info.append((int(x), c))\n",
        "\n",
        "# 처음에는 오른쪽을 보고 있으므로 (동, 남, 서, 북)\n",
        "dx = [0, 1, 0, -1]\n",
        "dy = [1, 0, -1, 0]\n",
        "\n",
        "def turn(direction, c):\n",
        "    if c == 'L':\n",
        "        direction = (direction-1)%4\n",
        "    else:\n",
        "        direction = (direction+1)%4\n",
        "\n",
        "    return direction\n",
        "\n",
        "def simulate():\n",
        "    x, y = 1, 1 # 뱀의 머리 위치\n",
        "    graph[x][y] = 2 # 뱀이 존재하는 위치는 2로 표시\n",
        "    direction = 0 # 처음에는 동쪽을 보고 있음\n",
        "    time = 0 # 시작한 뒤에 지난 '초' 시간\n",
        "    index = 0 # 다음에 회전할 정보\n",
        "    q = [(x, y)] # 뱀이 차지하고 있는 위치 정보\n",
        "    while True:\n",
        "        nx = x + dx[direction]\n",
        "        ny = y + dy[direction]\n",
        "        \n",
        "        # 맵 범위 안에 있고, 뱀의 몸통이 없는 위치라면\n",
        "        if 1<=nx and nx<=n and 1<=ny and ny<=n and graph[nx][ny] != 2:\n",
        "            \n",
        "            # 사과가 없다면 이동 후에 꼬리 제거\n",
        "            if graph[nx][ny] == 0:\n",
        "                graph[nx][ny] = 2\n",
        "                q.append((nx, ny))\n",
        "                px, py = q.pop(0)\n",
        "                graph[px][py] = 0\n",
        "            \n",
        "            # 사과가 있다면 이동 후에 꼬리 그대로 두기\n",
        "            if graph[nx][ny] == 1:\n",
        "                graph[nx][ny] = 2\n",
        "                q.append((nx, ny))\n",
        "        \n",
        "        # 벽이나 뱀의 몸통과 부딪혔다면\n",
        "        else:\n",
        "            time += 1\n",
        "            break\n",
        "        x, y = nx, ny # 다음 위치로 머리를 이동\n",
        "        time += 1\n",
        "        \n",
        "        # 회전할 시간인 경우 회전\n",
        "        if index < l and time == info[index][0]:\n",
        "            direction = turn(direction, info[index][1])\n",
        "            index += 1\n",
        "\n",
        "    return time\n",
        "\n",
        "print(simulate())"
      ]
    },
    {
      "cell_type": "code",
      "execution_count": null,
      "metadata": {
        "id": "aEtNYVsGKapK"
      },
      "outputs": [],
      "source": [
        "# 기둥과 보\n",
        "# x, y, a, b : x좌표, y좌표, 구조물(0: 기둥, 1: 보), 설치 유무(0: 삭제, 1: 설치)\n",
        "def is_ok(result): # 지금 상태, 괜찮을까?\n",
        "    for x, y, a in result:\n",
        "        if a: # 보일 때\n",
        "            if [x, y - 1, 0] in result or [x + 1, y - 1, 0] in result or ([x - 1, y, 1] in result and [x + 1, y, 1] in result):\n",
        "                continue\n",
        "            return False\n",
        "        else: # 기둥일 때\n",
        "            if not y or [x, y, 1] in result or [x - 1, y, 1] in result or [x, y - 1, 0] in result:\n",
        "                continue\n",
        "            return False\n",
        "    return True\n",
        "    \n",
        "def solution(n, build_frame):\n",
        "    result = []\n",
        "    for build in build_frame: # build_frame을 하나씩 살펴보며\n",
        "        if build[3]: # 설치\n",
        "            result.append(build[:3]) # x,y,a(구조물) 추가\n",
        "            if not is_ok(result): # 지금 상태 안 괜찮다면\n",
        "                result.remove(build[:3]) # 설치한거 다시 삭제\n",
        "        else: # 삭제\n",
        "            result.remove(build[:3]) # x,y,a(구조물) 제거\n",
        "            if not is_ok(result): # 지금 상태 안 괜찮다면\n",
        "                result.append(build[:3]) # 삭제한거 다시 설치\n",
        "                \n",
        "    return sorted(result) # 정렬해서 반환"
      ]
    },
    {
      "cell_type": "code",
      "execution_count": null,
      "metadata": {
        "id": "5UoVT1hiKdS7"
      },
      "outputs": [],
      "source": [
        "# 치킨 배달\n",
        "from itertools import combinations\n",
        "\n",
        "n, m = map(int, input().split())\n",
        "chicken, house = [], []\n",
        "\n",
        "for r in range(n) :\n",
        "  data = list(map(int, input().split()))\n",
        "  for c in range(n) :\n",
        "    if data[c] == 1 :\n",
        "      house.append((r, c)) # 집\n",
        "    elif data[c] == 2 :\n",
        "      chicken.append((r, c)) # 치킨 집\n",
        "\n",
        "# 모든 치킨집 중에서 m개의 치킨집을 뽀는 조합 계산\n",
        "candidates = list(combinations(chicken, m))\n",
        "\n",
        "# 치킨 거리의 합을 계산하는 함수\n",
        "def get_sum(candidate) :\n",
        "  result = 0\n",
        "  # 모든 집에 대하여\n",
        "  for hx, hy in house :\n",
        "    # 가장 가까운 치킨집을 찾기\n",
        "    temp = 1e9\n",
        "    for cx, cy in candidate :\n",
        "      temp = min(temp, abs(hx - cx) + abs(hy - cy))\n",
        "    # 가장 가까운 치킨집까지의 거리를 더하기\n",
        "    result += temp\n",
        "  # 치킨 거리의 합 반환\n",
        "  return result\n",
        "\n",
        "# 치킨 거리의 합의 최소를 찾아 출력\n",
        "result = 1e9\n",
        "for candidate in candidates :\n",
        "  result = min(result, get_sum(candidate))\n",
        "\n",
        "print(result)"
      ]
    },
    {
      "cell_type": "code",
      "execution_count": null,
      "metadata": {
        "colab": {
          "base_uri": "https://localhost:8080/"
        },
        "id": "btrY3Yu41S4S",
        "outputId": "1c9fac09-e8d1-4250-b2fb-000834075071"
      },
      "outputs": [
        {
          "name": "stdout",
          "output_type": "stream",
          "text": [
            "5\n",
            "1\n",
            "2\n",
            "3\n",
            "4\n",
            "5\n",
            "1\n",
            "2\n",
            "3\n",
            "4\n",
            "5\n"
          ]
        }
      ],
      "source": [
        "#2750 수 정렬하기2\n",
        "x = int(input())\n",
        "num_list = []\n",
        "for i in range(x):\n",
        "    num_list.append(int(input()))\n",
        "num_list1 = sorted(num_list)\n",
        "for i in range(len(num_list)):\n",
        "    print(num_list1[i])"
      ]
    },
    {
      "cell_type": "code",
      "execution_count": null,
      "metadata": {
        "colab": {
          "base_uri": "https://localhost:8080/"
        },
        "id": "y01evb0WHg8I",
        "outputId": "007bc4b9-2b6c-437b-d36f-c52ed1b32843"
      },
      "outputs": [
        {
          "name": "stdout",
          "output_type": "stream",
          "text": [
            "9\n",
            "SLLLLSLL\n",
            "4\n"
          ]
        }
      ],
      "source": [
        "# 2810 컵홀더 ## 킹갓 재욱 코드\n",
        "n = int(input())\n",
        "s = str(input())\n",
        "\n",
        "s = s.replace(\"S\",\"*S*\")\n",
        "s = s.replace(\"LL\",\"*LL*\")\n",
        "s = s.replace(\"**\",\"*\")\n",
        "\n",
        "num = s.count(\"*\")\n",
        "result = min(num, n)\n",
        "\n",
        "print(result)"
      ]
    },
    {
      "cell_type": "code",
      "execution_count": null,
      "metadata": {
        "id": "9eB5zMD04tKD"
      },
      "outputs": [],
      "source": [
        "# 2475 검증수\n",
        "n = list(map(int, input().split()))\n",
        "result = 0\n",
        "\n",
        "for i in range(len(n)):\n",
        "  n[i] = n[i]**2\n",
        "  result += n[i]\n",
        "\n",
        "result = result % 10\n",
        "print(result)"
      ]
    },
    {
      "cell_type": "code",
      "execution_count": 5,
      "metadata": {
        "colab": {
          "base_uri": "https://localhost:8080/"
        },
        "id": "IG_SePfI4uDI",
        "outputId": "00f5ad81-be60-43af-d487-b127466b5f65"
      },
      "outputs": [
        {
          "name": "stdout",
          "output_type": "stream",
          "text": [
            "baekjoon\n",
            "1 0 -1 -1 2 -1 -1 -1 -1 4 3 -1 -1 7 5 -1 -1 -1 -1 -1 -1 -1 -1 -1 -1 -1 "
          ]
        }
      ],
      "source": [
        "# 10809 알파벳 찾기\n",
        "S = input()\n",
        "abc ='abcdefghijklmnopqrstuvwxyz'\n",
        "\n",
        "for i in abc:\n",
        "    if i in S:\n",
        "        print(S.index(i), end= ' ')\n",
        "    else:\n",
        "        print( -1, end =' ')"
      ]
    }
  ],
  "metadata": {
    "colab": {
      "authorship_tag": "ABX9TyNLqVQLy70d0IonIhiIbNYh",
      "include_colab_link": true,
      "provenance": []
    },
    "kernelspec": {
      "display_name": "Python 3",
      "name": "python3"
    },
    "language_info": {
      "codemirror_mode": {
        "name": "ipython",
        "version": 3
      },
      "file_extension": ".py",
      "mimetype": "text/x-python",
      "name": "python",
      "nbconvert_exporter": "python",
      "pygments_lexer": "ipython3",
      "version": "3.10.9"
    }
  },
  "nbformat": 4,
  "nbformat_minor": 0
}
