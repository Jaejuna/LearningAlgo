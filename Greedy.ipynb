{
 "cells": [
  {
   "cell_type": "code",
   "execution_count": 1,
   "metadata": {},
   "outputs": [
    {
     "name": "stdout",
     "output_type": "stream",
     "text": [
      "3\n"
     ]
    }
   ],
   "source": [
    "#1이 될 때까지\n",
    "## 입력 받기\n",
    "n, k = map(int, input().split())\n",
    "result = 0\n",
    "\n",
    "while True:\n",
    "    ## N이 K로 나누어 떨어지는 수가 될 때까지 빼기\n",
    "    target = (n//k) * k\n",
    "    result += (n - target)\n",
    "    n = target\n",
    "    ## N이 K 보다 작을 때 (나눌 수 없을 때) 탈출\n",
    "    if n < k:\n",
    "        break\n",
    "    ## K로 나누기\n",
    "    result += 1\n",
    "    n //= k\n",
    "\n",
    "## 마지막 남은 수에 대하여 1씩 빼기\n",
    "result += (n-1)\n",
    "print(result)"
   ]
  },
  {
   "cell_type": "code",
   "execution_count": 2,
   "metadata": {},
   "outputs": [
    {
     "name": "stdout",
     "output_type": "stream",
     "text": [
      "12642\n"
     ]
    }
   ],
   "source": [
    "#곱하기 혹은 더하기\n",
    "n = input()\n",
    "\n",
    "result = int(n[0])\n",
    "\n",
    "for i in range(1, len(n)):\n",
    "    num = int(n[i])\n",
    "    if num <= 1 or result <= 1:\n",
    "        result += num\n",
    "    else:\n",
    "        result *= num\n",
    "\n",
    "print(result)"
   ]
  },
  {
   "cell_type": "code",
   "execution_count": null,
   "metadata": {},
   "outputs": [],
   "source": [
    "#모험가 길드\n",
    "n = int(input())\n",
    "data = list(map(int, input().split()))\n",
    "##오름차순 정렬\n",
    "data.sort()\n",
    "\n",
    "result = 0  #총 그룹 수\n",
    "count = 0   #현재 그룹에 포함된 모험가의 수\n",
    "\n",
    "for i in data:\n",
    "    count += 1\n",
    "    if count >= i:\n",
    "        result += 1\n",
    "        count = 0\n",
    "\n",
    "print(result)"
   ]
  }
 ],
 "metadata": {
  "kernelspec": {
   "display_name": "Python 3.7.4 64-bit",
   "language": "python",
   "name": "python3"
  },
  "language_info": {
   "codemirror_mode": {
    "name": "ipython",
    "version": 3
   },
   "file_extension": ".py",
   "mimetype": "text/x-python",
   "name": "python",
   "nbconvert_exporter": "python",
   "pygments_lexer": "ipython3",
   "version": "3.7.4"
  },
  "orig_nbformat": 4,
  "vscode": {
   "interpreter": {
    "hash": "949777d72b0d2535278d3dc13498b2535136f6dfe0678499012e853ee9abcab1"
   }
  }
 },
 "nbformat": 4,
 "nbformat_minor": 2
}
